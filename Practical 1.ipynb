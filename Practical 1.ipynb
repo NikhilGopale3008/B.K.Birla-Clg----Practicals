{
 "cells": [
  {
   "cell_type": "markdown",
   "id": "a4b3d45e",
   "metadata": {},
   "source": [
    "# Practical - 1"
   ]
  },
  {
   "cell_type": "markdown",
   "id": "854b33b3",
   "metadata": {},
   "source": [
    "Name :- Nikhil Gopale\n",
    "\n",
    "Student ID :- 44712\n",
    "\n",
    "Roll No :- 30\n",
    "\n",
    "Class :- Msc-Data Science And Big Data Analytics."
   ]
  },
  {
   "cell_type": "markdown",
   "id": "615ac4b1",
   "metadata": {},
   "source": [
    "\n",
    "\n",
    "### Basic String Functions\n",
    "1) conversation of data type\n",
    "\n",
    "2) length function\n",
    "\n",
    "3) count function\n",
    "\n"
   ]
  },
  {
   "cell_type": "markdown",
   "id": "c811d257",
   "metadata": {},
   "source": [
    "### 1) conver flot to int and int to flot"
   ]
  },
  {
   "cell_type": "code",
   "execution_count": 17,
   "id": "027b1729",
   "metadata": {},
   "outputs": [
    {
     "name": "stdout",
     "output_type": "stream",
     "text": [
      "10.0\n",
      "20\n",
      "30.0\n",
      "40\n"
     ]
    }
   ],
   "source": [
    "a= 10\n",
    "b=20.5\n",
    "c=30\n",
    "d=40.40\n",
    "print(float(a))\n",
    "print(int(b))\n",
    "print(float(c))\n",
    "print(int(d))"
   ]
  },
  {
   "cell_type": "markdown",
   "id": "841af920",
   "metadata": {},
   "source": [
    "### 2) Take Two String And Form A msg"
   ]
  },
  {
   "cell_type": "code",
   "execution_count": 3,
   "id": "e1afb0a1",
   "metadata": {},
   "outputs": [
    {
     "name": "stdout",
     "output_type": "stream",
     "text": [
      "Python is powerfull And elegant language and sutaible for data analysis\n"
     ]
    }
   ],
   "source": [
    "\n",
    "\n",
    "string_1 = \"powerfull\"\n",
    "string_2 = \"elegant\"\n",
    "\n",
    "print(\"Python is {} And {} language and sutaible for data analysis\".format(string_1,string_2))"
   ]
  },
  {
   "cell_type": "markdown",
   "id": "2950bb79",
   "metadata": {},
   "source": [
    "### 3) calculated length "
   ]
  },
  {
   "cell_type": "code",
   "execution_count": 4,
   "id": "3279c6e6",
   "metadata": {},
   "outputs": [
    {
     "data": {
      "text/plain": [
       "('python', 'name length is', 6)"
      ]
     },
     "metadata": {},
     "output_type": "display_data"
    },
    {
     "data": {
      "text/plain": [
       "('Hello Wolrd', 'name_1  lenght is', 11)"
      ]
     },
     "metadata": {},
     "output_type": "display_data"
    }
   ],
   "source": [
    "\n",
    "\n",
    "name = \"python\"\n",
    "name_1 =\"Hello Wolrd\"\n",
    "\n",
    "print = (name,'name length is',len(name))\n",
    "print\n",
    "         \n",
    "\n",
    "print_1 = (name_1,'name_1  lenght is',len(name_1))\n",
    "print\n",
    "display(print,print_1)"
   ]
  },
  {
   "cell_type": "markdown",
   "id": "e1cc6f4c",
   "metadata": {},
   "source": [
    "### 4) count the single string"
   ]
  },
  {
   "cell_type": "code",
   "execution_count": 1,
   "id": "3887283d",
   "metadata": {},
   "outputs": [
    {
     "name": "stdout",
     "output_type": "stream",
     "text": [
      "15\n",
      "1\n",
      "2\n",
      "1\n",
      "1\n",
      "1\n",
      "1\n",
      "1\n",
      "2\n",
      "1\n"
     ]
    }
   ],
   "source": [
    "\n",
    "msg =\"No Parking Zone\"\n",
    "print(len(msg))\n",
    "\n",
    "print(msg.count('N'))\n",
    "print(msg.count('o'))\n",
    "print(msg.count('P'))\n",
    "print(msg.count('a'))\n",
    "print(msg.count('r'))\n",
    "print(msg.count('k'))\n",
    "print(msg.count('i'))\n",
    "print(msg.count('n'))\n",
    "print(msg.count('g'))"
   ]
  },
  {
   "cell_type": "markdown",
   "id": "b6d3fc54",
   "metadata": {},
   "source": [
    "### 5) count the vowels"
   ]
  },
  {
   "cell_type": "code",
   "execution_count": 2,
   "id": "da421e75",
   "metadata": {},
   "outputs": [
    {
     "name": "stdout",
     "output_type": "stream",
     "text": [
      "Total Vowels is 11\n"
     ]
    }
   ],
   "source": [
    "\n",
    "string_vo = 'Are you working as a python programmer?'\n",
    "\n",
    "a = string_vo.count(\"A\") | string_vo.count(\"a\")\n",
    "e = string_vo.count(\"e\")\n",
    "i = string_vo.count(\"i\")\n",
    "o = string_vo.count(\"o\")\n",
    "u = string_vo.count(\"u\")\n",
    "\n",
    "print(\"Total Vowels is\",(a+e+i+o+u))"
   ]
  },
  {
   "cell_type": "markdown",
   "id": "5ca68386",
   "metadata": {},
   "source": [
    "### 6) Declare four msg \n"
   ]
  },
  {
   "cell_type": "code",
   "execution_count": 3,
   "id": "95e447ed",
   "metadata": {},
   "outputs": [
    {
     "name": "stdout",
     "output_type": "stream",
     "text": [
      "The Length of msg_1: 32\n",
      "The Length of msg_2: 30\n",
      "The Length of msg_3: 31\n",
      "The Length of msg_4: 49\n",
      "\n",
      "\n",
      "count 'a' in msg_4: 7\n",
      "\n",
      "\n",
      "Msg_1 ending with 'l' True\n",
      "msg_3 starting with 'A' False\n"
     ]
    }
   ],
   "source": [
    "\n",
    "msg_1 = \"The python language is wonderful\"\n",
    "msg_2 = \"The Python language is elegant\"\n",
    "msg_3 = \"The Python language is powerful\"\n",
    "msg_4 = \"The python language is suitable for data analysis\"\n",
    "\n",
    "# count the length\n",
    "print('The Length of msg_1:',len(msg_1))\n",
    "print('The Length of msg_2:',len(msg_2))\n",
    "print('The Length of msg_3:',len(msg_3))\n",
    "print('The Length of msg_4:',len(msg_4))\n",
    "print(\"\\n\")\n",
    "\n",
    "# count letter\n",
    "print(\"count 'a' in msg_4:\",msg_4.count('a'))\n",
    "print(\"\\n\")\n",
    "\n",
    "# msg_1 ending with \"l\"?\n",
    "print(\"Msg_1 ending with 'l'\",msg_1[-1]=='l')\n",
    "\n",
    "\n",
    "#  msg_3 is starting with \"A\"?\n",
    "print(\"msg_3 starting with 'A'\",msg_3[0]=='A')"
   ]
  },
  {
   "cell_type": "markdown",
   "id": "2947e1d5",
   "metadata": {},
   "source": [
    "### 7) upper | lower Case"
   ]
  },
  {
   "cell_type": "code",
   "execution_count": 4,
   "id": "24be3fb1",
   "metadata": {},
   "outputs": [
    {
     "name": "stdout",
     "output_type": "stream",
     "text": [
      "HELLO WORLD,YOU LIKE PYTHON PROGRAMMING\n",
      "hello world,you like python programming\n"
     ]
    }
   ],
   "source": [
    "case = 'Hello World,You like Python programming'\n",
    "print(case.upper())\n",
    "print(case.lower())"
   ]
  },
  {
   "cell_type": "code",
   "execution_count": null,
   "id": "5efc0b9e",
   "metadata": {},
   "outputs": [],
   "source": []
  },
  {
   "cell_type": "markdown",
   "id": "27f980ce",
   "metadata": {},
   "source": [
    "# Assignment-2\n",
    "### control structure in python"
   ]
  },
  {
   "cell_type": "raw",
   "id": "dd3f62da",
   "metadata": {},
   "source": [
    "Python has three types of control structures:\n",
    "\n",
    "1)Sequential - default mode\n",
    "\n",
    "\n",
    "2)Selection - used for decisions and branching\n",
    "--Simple if\n",
    "--if-else\n",
    "--nested if\n",
    "--if-elif-else\n",
    "  \n",
    "3)Repetition - used for looping, i.e., repeating a piece of code multiple times.\n",
    "--for loop\n",
    "--while loop"
   ]
  },
  {
   "cell_type": "markdown",
   "id": "00962917",
   "metadata": {},
   "source": [
    "### 1) Write a program in python to check whether the entered year is a leap year or not"
   ]
  },
  {
   "cell_type": "code",
   "execution_count": 24,
   "id": "554c8296",
   "metadata": {},
   "outputs": [
    {
     "name": "stdout",
     "output_type": "stream",
     "text": [
      "Enter Year: 2021\n",
      "2021 is not leap year\n"
     ]
    }
   ],
   "source": [
    "year = int(input(\"Enter Year: \"))\n",
    "\n",
    "if(year%4==0):  # check reminder is exactly equal to 0 or not\n",
    "    print(\"%d is leap year\"%year)\n",
    "else:   # if all condition false \n",
    "    print(\"%d is not leap year\"%year)\n",
    "\n",
    "    "
   ]
  },
  {
   "cell_type": "code",
   "execution_count": null,
   "id": "d173a83c",
   "metadata": {},
   "outputs": [],
   "source": []
  },
  {
   "cell_type": "markdown",
   "id": "a2310991",
   "metadata": {},
   "source": [
    "### 2) write a program in python to check the person age and accordingly show him the price of train ticket that fit his age."
   ]
  },
  {
   "cell_type": "code",
   "execution_count": 2,
   "id": "e28d7ac0",
   "metadata": {},
   "outputs": [
    {
     "name": "stdout",
     "output_type": "stream",
     "text": [
      "Enter your Name: Nikhil \n",
      "Enter your age:22\n",
      "your ticket is 100\n"
     ]
    }
   ],
   "source": [
    "# Input Function\n",
    "name = input(\"Enter your Name: \")\n",
    "age = int(input(\"Enter your age:\"))\n",
    "\n",
    "if age <= 18:\n",
    "    print(\"your ticket is 20\")\n",
    "elif 18<=age<=59:\n",
    "    print(\"your ticket is 100\")\n",
    "elif age >=60:\n",
    "    print(\"your ticket is 50\")\n"
   ]
  },
  {
   "cell_type": "code",
   "execution_count": null,
   "id": "80215ddb",
   "metadata": {},
   "outputs": [],
   "source": []
  },
  {
   "cell_type": "markdown",
   "id": "c2ac3555",
   "metadata": {},
   "source": [
    "### 3) write a program to display num from 1-10"
   ]
  },
  {
   "cell_type": "code",
   "execution_count": 22,
   "id": "4075f7b6",
   "metadata": {},
   "outputs": [
    {
     "name": "stdout",
     "output_type": "stream",
     "text": [
      "1\n",
      "2\n",
      "3\n",
      "4\n",
      "5\n",
      "6\n",
      "7\n",
      "8\n",
      "9\n",
      "10\n"
     ]
    }
   ],
   "source": [
    "# Display 1 to 10 numbers\n",
    "for i in range(1,11):\n",
    "    print(i)"
   ]
  },
  {
   "cell_type": "markdown",
   "id": "1deecf68",
   "metadata": {},
   "source": [
    "### 4)write a program to find the number of character 'a' in the letter 'banana'.(change the indentation and check the answers)\n"
   ]
  },
  {
   "cell_type": "code",
   "execution_count": 29,
   "id": "951b25c4",
   "metadata": {},
   "outputs": [
    {
     "name": "stdout",
     "output_type": "stream",
     "text": [
      "Number of a in banana 3\n"
     ]
    }
   ],
   "source": [
    "name = 'banana'\n",
    "count=0\n",
    "for i in name:\n",
    "    if i=='a':\n",
    "        count += 1\n",
    "print('Number of a in',name,count)"
   ]
  },
  {
   "cell_type": "code",
   "execution_count": 3,
   "id": "1d3b3cc6",
   "metadata": {},
   "outputs": [
    {
     "ename": "IndentationError",
     "evalue": "expected an indented block (Temp/ipykernel_5336/3193303332.py, line 4)",
     "output_type": "error",
     "traceback": [
      "\u001b[1;36m  File \u001b[1;32m\"C:\\Users\\nikhi\\AppData\\Local\\Temp/ipykernel_5336/3193303332.py\"\u001b[1;36m, line \u001b[1;32m4\u001b[0m\n\u001b[1;33m    if i=='a':\u001b[0m\n\u001b[1;37m    ^\u001b[0m\n\u001b[1;31mIndentationError\u001b[0m\u001b[1;31m:\u001b[0m expected an indented block\n"
     ]
    }
   ],
   "source": [
    "# indentation error\n",
    "name = 'banana'\n",
    "count=0\n",
    "for i in name:\n",
    "if i=='a':\n",
    "        count += 1\n",
    "print('Number of a in',name,count)"
   ]
  },
  {
   "cell_type": "code",
   "execution_count": null,
   "id": "4fd05e60",
   "metadata": {},
   "outputs": [],
   "source": []
  },
  {
   "cell_type": "markdown",
   "id": "ceb56ab8",
   "metadata": {},
   "source": [
    "# Assignment 3"
   ]
  },
  {
   "cell_type": "markdown",
   "id": "8d373fbd",
   "metadata": {},
   "source": [
    "## functions in python\n",
    "\n",
    "\n",
    "A function is a block of code which only runs when it is called.\n",
    "\n",
    "You can pass data, known as parameters, into a function.\n",
    "\n",
    "A function can return data as a result."
   ]
  },
  {
   "cell_type": "markdown",
   "id": "b2d4ef48",
   "metadata": {},
   "source": [
    "### 1) Table of any number entered by the user"
   ]
  },
  {
   "cell_type": "code",
   "execution_count": 18,
   "id": "adb17905",
   "metadata": {},
   "outputs": [
    {
     "name": "stdout",
     "output_type": "stream",
     "text": [
      "enter number:2\n",
      "  2 * 1 = 2\n",
      "  2 * 2 = 4\n",
      "  2 * 3 = 6\n",
      "  2 * 4 = 8\n",
      "  2 * 5 = 10\n",
      "  2 * 6 = 12\n",
      "  2 * 7 = 14\n",
      "  2 * 8 = 16\n",
      "  2 * 9 = 18\n",
      "  2 * 10 = 20\n",
      "************************************\n",
      "enter number:4\n",
      "4 * 1 = 4\n",
      "4 * 2 = 8\n",
      "4 * 3 = 12\n",
      "4 * 4 = 16\n",
      "4 * 5 = 20\n",
      "4 * 6 = 24\n",
      "4 * 7 = 28\n",
      "4 * 8 = 32\n",
      "4 * 9 = 36\n",
      "4 * 10 = 40\n"
     ]
    }
   ],
   "source": [
    "# using for loop\n",
    "user = int(input(\"enter number:\"))\n",
    "for i in range(1,11,1):\n",
    "    print(\" \",user,\"*\",i,\"=\",user*i)\n",
    "    \n",
    "    \n",
    "print(\"************************************\")\n",
    "# using while loop\n",
    "user = int(input(\"enter number:\"))\n",
    "i=1\n",
    "while i<=10:\n",
    "    print(user,\"*\",i,\"=\",user*i)\n",
    "    i=i+1\n",
    "    "
   ]
  },
  {
   "cell_type": "markdown",
   "id": "81facdac",
   "metadata": {},
   "source": [
    "### 2) Find the maximum num among the 3 num\n"
   ]
  },
  {
   "cell_type": "code",
   "execution_count": 26,
   "id": "9b05b74b",
   "metadata": {},
   "outputs": [
    {
     "name": "stdout",
     "output_type": "stream",
     "text": [
      "Enter 1st num:10\n",
      "Enter 2nd num:30\n",
      "Enter 3rd num:5\n",
      "30 is greatest number: \n"
     ]
    }
   ],
   "source": [
    "def greatest(a,b,c):\n",
    "    if (a>b) & (a>c):\n",
    "        print(a,\"is greatest number:\")\n",
    "    elif (b>a) & (b>c):\n",
    "        print(b,\"is greatest number: \")\n",
    "    else:\n",
    "        print(c,\"is greatest number:\")\n",
    "\n",
    "\n",
    "a = int(input(\"Enter 1st num:\"))\n",
    "b = int(input(\"Enter 2nd num:\"))\n",
    "c = int(input(\"Enter 3rd num:\"))\n",
    "\n",
    "greatest(a,b,c)"
   ]
  },
  {
   "cell_type": "code",
   "execution_count": null,
   "id": "7ba208e7",
   "metadata": {},
   "outputs": [],
   "source": []
  },
  {
   "cell_type": "markdown",
   "id": "501a98f7",
   "metadata": {},
   "source": [
    "### 3) Program to use switch case statement = Accept two num from the user and ask the choice of performing operations such as addition, multiplication,subtraction or division.as per the user choice perform the operation.    "
   ]
  },
  {
   "cell_type": "code",
   "execution_count": 1,
   "id": "c7246682",
   "metadata": {},
   "outputs": [
    {
     "name": "stdout",
     "output_type": "stream",
     "text": [
      "enter 1st number:3\n",
      "enter 2nd number:5\n",
      "select your choice *,+,-,/*\n",
      "Enter your choice\n",
      "3 * 5 : 15\n",
      "*******************************\n",
      "enter 1st number:21\n",
      "enter 2nd number:2\n",
      "select your choice *,+,-,/+\n",
      "Enter your choice\n",
      "21 + 2 : 23\n",
      "****************************\n",
      "enter 1st number:25\n",
      "enter 2nd number:25\n",
      "select your choice *,+,-,/-\n",
      "Enter your choice\n",
      "25 - 25 : 0\n",
      "********************************\n",
      "enter 1st number:50\n",
      "enter 2nd number:10\n",
      "select your choice *,+,-,//\n",
      "Enter your choice\n",
      "50 / 10 : 5.0\n"
     ]
    }
   ],
   "source": [
    "num_1 = int(input(\"enter 1st number:\"))\n",
    "num_2 = int(input(\"enter 2nd number:\"))\n",
    "\n",
    "choice = input(\"select your choice *,+,-,/\")\n",
    "print(\"Enter your choice\")\n",
    "\n",
    "result = 0\n",
    "if choice == '+':\n",
    "    result = num_1 + num_2\n",
    "    \n",
    "elif choice == '*':\n",
    "    result = num_1 * num_2\n",
    "    \n",
    "elif choice == '-':\n",
    "    result = num_1 - num_2\n",
    "    \n",
    "elif choice == '/':\n",
    "    result = num_1 / num_2\n",
    "else:\n",
    "    print(\"choice not match\")\n",
    "    \n",
    "print(num_1, choice,num_2,\":\",result)\n",
    "\n",
    "\n",
    "print(\"*******************************\")\n",
    "\n",
    "\n",
    "num_1 = int(input(\"enter 1st number:\"))\n",
    "num_2 = int(input(\"enter 2nd number:\"))\n",
    "\n",
    "choice = input(\"select your choice *,+,-,/\")\n",
    "print(\"Enter your choice\")\n",
    "\n",
    "result = 0\n",
    "if choice == '+':\n",
    "    result = num_1 + num_2\n",
    "    \n",
    "elif choice == '*':\n",
    "    result = num_1 * num_2\n",
    "    \n",
    "elif choice == '-':\n",
    "    result = num_1 - num_2\n",
    "    \n",
    "elif choice == '/':\n",
    "    result = num_1 / num_2\n",
    "else:\n",
    "    print(\"choice not match\")\n",
    "    \n",
    "print(num_1, choice,num_2,\":\",result)\n",
    "\n",
    "print(\"****************************\")\n",
    "\n",
    "num_1 = int(input(\"enter 1st number:\"))\n",
    "num_2 = int(input(\"enter 2nd number:\"))\n",
    "\n",
    "choice = input(\"select your choice *,+,-,/\")\n",
    "print(\"Enter your choice\")\n",
    "\n",
    "result = 0\n",
    "if choice == '+':\n",
    "    result = num_1 + num_2\n",
    "    \n",
    "elif choice == '*':\n",
    "    result = num_1 * num_2\n",
    "    \n",
    "elif choice == '-':\n",
    "    result = num_1 - num_2\n",
    "    \n",
    "elif choice == '/':\n",
    "    result = num_1 / num_2\n",
    "else:\n",
    "    print(\"choice not match\")\n",
    "    \n",
    "print(num_1, choice,num_2,\":\",result)\n",
    "\n",
    "print('********************************')\n",
    "\n",
    "num_1 = int(input(\"enter 1st number:\"))\n",
    "num_2 = int(input(\"enter 2nd number:\"))\n",
    "\n",
    "choice = input(\"select your choice *,+,-,/\")\n",
    "print(\"Enter your choice\")\n",
    "\n",
    "result = 0\n",
    "if choice == '+':\n",
    "    result = num_1 + num_2\n",
    "    \n",
    "elif choice == '*':\n",
    "    result = num_1 * num_2\n",
    "    \n",
    "elif choice == '-':\n",
    "    result = num_1 - num_2\n",
    "    \n",
    "elif choice == '/':\n",
    "    result = num_1 / num_2\n",
    "else:\n",
    "    print(\"choice not match\")\n",
    "    \n",
    "print(num_1, choice,num_2,\":\",result)"
   ]
  },
  {
   "cell_type": "code",
   "execution_count": null,
   "id": "c609ba93",
   "metadata": {},
   "outputs": [],
   "source": []
  },
  {
   "cell_type": "markdown",
   "id": "bf1cb1ce",
   "metadata": {},
   "source": [
    "### 4) write a program to print even number between 1-20 and odd numbers between 1-20( using lambda function)."
   ]
  },
  {
   "cell_type": "code",
   "execution_count": 24,
   "id": "c47247cc",
   "metadata": {},
   "outputs": [
    {
     "name": "stdout",
     "output_type": "stream",
     "text": [
      "odd number [1, 3, 5, 7, 9, 11, 13, 15, 17, 19]\n",
      "even number [2, 4, 6, 8, 10, 12, 14, 16, 18, 20]\n"
     ]
    }
   ],
   "source": [
    "num =[1,2,3,4,5,6,7,8,9,10,11,12,13,14,15,16,17,18,19,20]\n",
    "\n",
    "odd =list(filter(lambda x:(x%2!=0),num))  # filter out all the element of sequence for which the function return True\n",
    "print(\"odd number\",odd)\n",
    "\n",
    "even =list(filter(lambda x:(x%2==0),num))\n",
    "print(\"even number\",even)"
   ]
  },
  {
   "cell_type": "code",
   "execution_count": null,
   "id": "fe9acd96",
   "metadata": {},
   "outputs": [],
   "source": []
  },
  {
   "cell_type": "markdown",
   "id": "02664739",
   "metadata": {},
   "source": [
    "### 5) write a program to add the digit of a given number 3+2+1=6"
   ]
  },
  {
   "cell_type": "code",
   "execution_count": 4,
   "id": "3262a90c",
   "metadata": {},
   "outputs": [
    {
     "name": "stdout",
     "output_type": "stream",
     "text": [
      "enter number:321\n"
     ]
    },
    {
     "data": {
      "text/plain": [
       "6"
      ]
     },
     "execution_count": 4,
     "metadata": {},
     "output_type": "execute_result"
    }
   ],
   "source": [
    "#user = int(input(\"enter number:\"))\n",
    "def add_digit(n):\n",
    "    sum=0\n",
    "    while(n!=0):\n",
    "        sum=sum + (n%10)\n",
    "        n=n//10\n",
    "    return sum\n",
    "        \n",
    "num = int(input(\"enter number:\"))\n",
    "\n",
    "add_digit(num)"
   ]
  },
  {
   "cell_type": "code",
   "execution_count": null,
   "id": "b78cd164",
   "metadata": {},
   "outputs": [],
   "source": []
  },
  {
   "cell_type": "markdown",
   "id": "224c1039",
   "metadata": {},
   "source": [
    "### 6) Fibonacci series\n"
   ]
  },
  {
   "cell_type": "code",
   "execution_count": 1,
   "id": "8026993a",
   "metadata": {},
   "outputs": [
    {
     "name": "stdout",
     "output_type": "stream",
     "text": [
      "Enter the number:10\n",
      "Fibonacci series \n",
      "0 1 1 2 3 5 8 13 21 34 "
     ]
    }
   ],
   "source": [
    "n = int(input(\"Enter the number:\"))\n",
    "print(\"Fibonacci series \")\n",
    "a=0\n",
    "b=1\n",
    "sum=0\n",
    "count=1 \n",
    "while(count<=n):\n",
    "    print(sum,end=\" \")\n",
    "    count+=1\n",
    "    a=b\n",
    "    b=sum\n",
    "    sum=a+b\n",
    "    "
   ]
  },
  {
   "cell_type": "code",
   "execution_count": null,
   "id": "cae386bf",
   "metadata": {},
   "outputs": [],
   "source": []
  },
  {
   "cell_type": "markdown",
   "id": "c2d587d4",
   "metadata": {},
   "source": [
    "### 7) Factorial of number\n"
   ]
  },
  {
   "cell_type": "code",
   "execution_count": 12,
   "id": "5a51c23c",
   "metadata": {},
   "outputs": [
    {
     "name": "stdout",
     "output_type": "stream",
     "text": [
      "Enter number:4\n",
      "fact is: 24\n"
     ]
    }
   ],
   "source": [
    "# using def function\n",
    "def fact(n):\n",
    "    f=1\n",
    "    for i in range(n,0,-1):\n",
    "        f=f*i\n",
    "    return f\n",
    "user = int(input(\"Enter number:\"))\n",
    "print(\"fact is:\",fact(user))"
   ]
  },
  {
   "cell_type": "code",
   "execution_count": 15,
   "id": "838757b6",
   "metadata": {},
   "outputs": [
    {
     "name": "stdout",
     "output_type": "stream",
     "text": [
      "Enter number:4\n",
      "Factorial of  4 = 24\n"
     ]
    }
   ],
   "source": [
    "# using lambda function\n",
    "\n",
    "user = int(input(\"Enter number:\"))\n",
    "x= lambda num:1 if num<=0 else num*x(num-1)  \n",
    "print(\"Factorial of \",user,\"=\",x(user))\n"
   ]
  },
  {
   "cell_type": "markdown",
   "id": "fd4dd147",
   "metadata": {},
   "source": [
    "### 8) ever and odd"
   ]
  },
  {
   "cell_type": "code",
   "execution_count": 16,
   "id": "c0abd222",
   "metadata": {},
   "outputs": [
    {
     "name": "stdout",
     "output_type": "stream",
     "text": [
      "odd\n"
     ]
    }
   ],
   "source": [
    "\n",
    "def evenodd(num):\n",
    "    if num%2==0:\n",
    "        print(\"odd\")\n",
    "    else:\n",
    "        print(\"even\")\n",
    "evenodd(10)"
   ]
  },
  {
   "cell_type": "code",
   "execution_count": null,
   "id": "ecffff91",
   "metadata": {},
   "outputs": [],
   "source": []
  },
  {
   "cell_type": "markdown",
   "id": "319a2a81",
   "metadata": {},
   "source": [
    "### 9) Number Pattern "
   ]
  },
  {
   "cell_type": "code",
   "execution_count": null,
   "id": "f4f2ad9e",
   "metadata": {},
   "outputs": [
    {
     "name": "stdout",
     "output_type": "stream",
     "text": [
      "Enter Number:5\n",
      "enter your choice1\n",
      "pattern:1\n",
      "1\n",
      "11\n",
      "111\n",
      "1111\n",
      "11111\n",
      "enter your choice2\n",
      "pattern:2\n",
      "1\n",
      "12\n",
      "123\n",
      "1234\n",
      "12345\n",
      "enter your choice3\n",
      "pattern:3\n",
      "11111\n",
      "11111\n",
      "11111\n",
      "11111\n",
      "11111\n",
      "enter your choice4\n",
      "pattern:4\n",
      "12345\n",
      "12345\n",
      "12345\n",
      "12345\n",
      "12345\n",
      "enter your choice5\n",
      "pattern:5\n",
      "1\n",
      "22\n",
      "333\n",
      "4444\n",
      "55555\n"
     ]
    }
   ],
   "source": [
    "user = int(input(\"Enter Number:\"))\n",
    "i=1\n",
    "while(i<=10):\n",
    "    choice=int(input(\"enter your choice\"))\n",
    "    if(choice==1):\n",
    "        print(\"pattern:1\")\n",
    "        for i in range(1,user+1):\n",
    "            for j in range(1,i+1):\n",
    "                print(\"1\",end=\"\")\n",
    "            print()\n",
    "    elif(choice==2):\n",
    "        print(\"pattern:2\")\n",
    "        for i in range(1,user+1):\n",
    "            for j in range(1,i+1):\n",
    "                print(j,end=\"\")\n",
    "            print()\n",
    "            \n",
    "    elif(choice==3):\n",
    "        print(\"pattern:3\")\n",
    "        for i in range(1,user+1):\n",
    "            for j in range(1,user+1):\n",
    "                print(\"1\",end=\"\")\n",
    "            print()\n",
    "            \n",
    "    elif(choice==4):\n",
    "        print(\"pattern:4\")\n",
    "        for i in range(1,user+1):\n",
    "            for j in range(1,user+1):\n",
    "                print(j,end=\"\")\n",
    "            print()\n",
    "            \n",
    "            \n",
    "    elif(choice==5):\n",
    "        print(\"pattern:5\")\n",
    "        for i in range(1,user+1):\n",
    "            for j in range(1,i+1):\n",
    "                print(i,end=\"\")\n",
    "            print()\n",
    "    else:\n",
    "        print(\"invalid choice\")\n",
    "    i=i+1\n",
    "   \n",
    "\n",
    "            "
   ]
  },
  {
   "cell_type": "code",
   "execution_count": null,
   "id": "3ac6918e",
   "metadata": {},
   "outputs": [],
   "source": []
  },
  {
   "cell_type": "code",
   "execution_count": null,
   "id": "6049c236",
   "metadata": {},
   "outputs": [],
   "source": []
  },
  {
   "cell_type": "code",
   "execution_count": null,
   "id": "327ffa25",
   "metadata": {},
   "outputs": [],
   "source": []
  }
 ],
 "metadata": {
  "kernelspec": {
   "display_name": "Python 3 (ipykernel)",
   "language": "python",
   "name": "python3"
  },
  "language_info": {
   "codemirror_mode": {
    "name": "ipython",
    "version": 3
   },
   "file_extension": ".py",
   "mimetype": "text/x-python",
   "name": "python",
   "nbconvert_exporter": "python",
   "pygments_lexer": "ipython3",
   "version": "3.9.7"
  }
 },
 "nbformat": 4,
 "nbformat_minor": 5
}
