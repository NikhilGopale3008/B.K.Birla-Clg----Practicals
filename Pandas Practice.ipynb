{
 "cells": [
  {
   "cell_type": "code",
   "execution_count": 1,
   "id": "53ac216d",
   "metadata": {},
   "outputs": [],
   "source": [
    "import pandas as pd\n"
   ]
  },
  {
   "cell_type": "markdown",
   "id": "218da790",
   "metadata": {},
   "source": [
    "#### 1. Given a list with numbers 1,2,3,4,5,6. Output the corresponding pandas  series\n",
    "   "
   ]
  },
  {
   "cell_type": "code",
   "execution_count": 2,
   "id": "1d7e8c04",
   "metadata": {},
   "outputs": [
    {
     "data": {
      "text/plain": [
       "0    1\n",
       "1    2\n",
       "2    3\n",
       "3    4\n",
       "4    5\n",
       "5    6\n",
       "dtype: int64"
      ]
     },
     "execution_count": 2,
     "metadata": {},
     "output_type": "execute_result"
    }
   ],
   "source": [
    "a= [1,2,3,4,5,6]\n",
    "a=pd.Series(a)\n",
    "a"
   ]
  },
  {
   "cell_type": "markdown",
   "id": "2803d095",
   "metadata": {},
   "source": [
    "#### 2. Given a list with numbers 1,2,3,4,5,6. Output the corresponding pandas  series with odd indexes only\n",
    "          \n"
   ]
  },
  {
   "cell_type": "code",
   "execution_count": 5,
   "id": "a4ab0f2f",
   "metadata": {},
   "outputs": [
    {
     "data": {
      "text/plain": [
       "0     1\n",
       "3     2\n",
       "6     3\n",
       "9     4\n",
       "11    5\n",
       "13    6\n",
       "dtype: int64"
      ]
     },
     "execution_count": 5,
     "metadata": {},
     "output_type": "execute_result"
    }
   ],
   "source": [
    "a= [1,2,3,4,5,6]\n",
    "a= pd.Series((a),index=[0,3,6,9,11,13])\n",
    "a"
   ]
  },
  {
   "cell_type": "markdown",
   "id": "a6f5ac49",
   "metadata": {},
   "source": [
    "#### 3. Generate the series of dates from 1st Jan, 2022 to 12th Jan, 2022 (both inclusive)\n",
    "\n"
   ]
  },
  {
   "cell_type": "code",
   "execution_count": 11,
   "id": "0047b542",
   "metadata": {},
   "outputs": [
    {
     "data": {
      "text/plain": [
       "DatetimeIndex(['2022-01-01', '2022-01-02', '2022-01-03', '2022-01-04',\n",
       "               '2022-01-05', '2022-01-06', '2022-01-07', '2022-01-08',\n",
       "               '2022-01-09', '2022-01-10', '2022-01-11', '2022-01-12'],\n",
       "              dtype='datetime64[ns]', freq='D')"
      ]
     },
     "execution_count": 11,
     "metadata": {},
     "output_type": "execute_result"
    }
   ],
   "source": [
    "d = pd.date_range('1/1/2022' ,periods=12)\n",
    "d"
   ]
  },
  {
   "cell_type": "markdown",
   "id": "fd01d43e",
   "metadata": {},
   "source": [
    "#### 4. Apply the function, f(x) = x divide by 2 on each and every element of a given pandas series 2,5,6,7,8,9\n"
   ]
  },
  {
   "cell_type": "code",
   "execution_count": 7,
   "id": "022040de",
   "metadata": {},
   "outputs": [
    {
     "data": {
      "text/plain": [
       "0    1.0\n",
       "1    2.5\n",
       "2    3.0\n",
       "3    3.5\n",
       "4    4.0\n",
       "5    4.5\n",
       "dtype: float64"
      ]
     },
     "execution_count": 7,
     "metadata": {},
     "output_type": "execute_result"
    }
   ],
   "source": [
    "a= pd.Series([2,5,6,7,8,9])\n",
    "s=a.apply(lambda x:x/2)\n",
    "s"
   ]
  },
  {
   "cell_type": "code",
   "execution_count": null,
   "id": "42be2077",
   "metadata": {},
   "outputs": [],
   "source": []
  },
  {
   "cell_type": "markdown",
   "id": "fa89e221",
   "metadata": {},
   "source": [
    "#### 5. In the given series, filter words that contain atleast 2 vowels from a series? ser = pd.Series(['Apple', 'Orange', 'Plan', 'Python', 'Money'])\n",
    "\n"
   ]
  },
  {
   "cell_type": "code",
   "execution_count": 12,
   "id": "ec1fb39c",
   "metadata": {},
   "outputs": [
    {
     "data": {
      "text/plain": [
       "0     Apple\n",
       "1    Orange\n",
       "4     Money\n",
       "dtype: object"
      ]
     },
     "execution_count": 12,
     "metadata": {},
     "output_type": "execute_result"
    }
   ],
   "source": [
    "ser = pd.Series(['Apple', 'Orange', 'Plan', 'Python', 'Money'])\n",
    "vo = ser[ser.str.count('(?i)[aeiou]') >=2]\n",
    "vo "
   ]
  },
  {
   "cell_type": "code",
   "execution_count": null,
   "id": "8e7ecc9c",
   "metadata": {},
   "outputs": [],
   "source": []
  },
  {
   "cell_type": "markdown",
   "id": "d29202e7",
   "metadata": {},
   "source": [
    "#### 6. Given a dictionary having three keys name, age, subjectMarks and dept with 6 values each, convert it into corresponding dataframe and display it\n"
   ]
  },
  {
   "cell_type": "code",
   "execution_count": 14,
   "id": "b69e080e",
   "metadata": {},
   "outputs": [
    {
     "data": {
      "text/html": [
       "<div>\n",
       "<style scoped>\n",
       "    .dataframe tbody tr th:only-of-type {\n",
       "        vertical-align: middle;\n",
       "    }\n",
       "\n",
       "    .dataframe tbody tr th {\n",
       "        vertical-align: top;\n",
       "    }\n",
       "\n",
       "    .dataframe thead th {\n",
       "        text-align: right;\n",
       "    }\n",
       "</style>\n",
       "<table border=\"1\" class=\"dataframe\">\n",
       "  <thead>\n",
       "    <tr style=\"text-align: right;\">\n",
       "      <th></th>\n",
       "      <th>Name</th>\n",
       "      <th>Age</th>\n",
       "      <th>Marks</th>\n",
       "    </tr>\n",
       "  </thead>\n",
       "  <tbody>\n",
       "    <tr>\n",
       "      <th>0</th>\n",
       "      <td>Nikhil</td>\n",
       "      <td>23</td>\n",
       "      <td>80</td>\n",
       "    </tr>\n",
       "    <tr>\n",
       "      <th>1</th>\n",
       "      <td>Sanket</td>\n",
       "      <td>22</td>\n",
       "      <td>90</td>\n",
       "    </tr>\n",
       "    <tr>\n",
       "      <th>2</th>\n",
       "      <td>Ganesh</td>\n",
       "      <td>21</td>\n",
       "      <td>56</td>\n",
       "    </tr>\n",
       "    <tr>\n",
       "      <th>3</th>\n",
       "      <td>Ketan</td>\n",
       "      <td>20</td>\n",
       "      <td>64</td>\n",
       "    </tr>\n",
       "    <tr>\n",
       "      <th>4</th>\n",
       "      <td>Rahul</td>\n",
       "      <td>19</td>\n",
       "      <td>74</td>\n",
       "    </tr>\n",
       "    <tr>\n",
       "      <th>5</th>\n",
       "      <td>JJ</td>\n",
       "      <td>23</td>\n",
       "      <td>34</td>\n",
       "    </tr>\n",
       "  </tbody>\n",
       "</table>\n",
       "</div>"
      ],
      "text/plain": [
       "     Name  Age  Marks\n",
       "0  Nikhil   23     80\n",
       "1  Sanket   22     90\n",
       "2  Ganesh   21     56\n",
       "3   Ketan   20     64\n",
       "4   Rahul   19     74\n",
       "5      JJ   23     34"
      ]
     },
     "execution_count": 14,
     "metadata": {},
     "output_type": "execute_result"
    }
   ],
   "source": [
    "dic = pd.DataFrame({\"Name\":['Nikhil','Sanket','Ganesh','Ketan','Rahul','JJ'],\n",
    "                   \"Age\":[23,22,21,20,19,23],\n",
    "                   \"Marks\":[80,90,56,64,74,34]})\n",
    "dic"
   ]
  },
  {
   "cell_type": "code",
   "execution_count": null,
   "id": "e4cd5051",
   "metadata": {},
   "outputs": [],
   "source": []
  },
  {
   "cell_type": "markdown",
   "id": "c64eb0b6",
   "metadata": {},
   "source": [
    "#### 7. Given a dataframe, change the index of a dataframe from the default indexes to a particular column\n"
   ]
  },
  {
   "cell_type": "code",
   "execution_count": 28,
   "id": "e2f01f52",
   "metadata": {},
   "outputs": [
    {
     "data": {
      "text/html": [
       "<div>\n",
       "<style scoped>\n",
       "    .dataframe tbody tr th:only-of-type {\n",
       "        vertical-align: middle;\n",
       "    }\n",
       "\n",
       "    .dataframe tbody tr th {\n",
       "        vertical-align: top;\n",
       "    }\n",
       "\n",
       "    .dataframe thead th {\n",
       "        text-align: right;\n",
       "    }\n",
       "</style>\n",
       "<table border=\"1\" class=\"dataframe\">\n",
       "  <thead>\n",
       "    <tr style=\"text-align: right;\">\n",
       "      <th></th>\n",
       "      <th>Name</th>\n",
       "      <th>Age</th>\n",
       "      <th>Marks</th>\n",
       "    </tr>\n",
       "  </thead>\n",
       "  <tbody>\n",
       "    <tr>\n",
       "      <th>a</th>\n",
       "      <td>NaN</td>\n",
       "      <td>NaN</td>\n",
       "      <td>NaN</td>\n",
       "    </tr>\n",
       "    <tr>\n",
       "      <th>b</th>\n",
       "      <td>NaN</td>\n",
       "      <td>NaN</td>\n",
       "      <td>NaN</td>\n",
       "    </tr>\n",
       "    <tr>\n",
       "      <th>c</th>\n",
       "      <td>NaN</td>\n",
       "      <td>NaN</td>\n",
       "      <td>NaN</td>\n",
       "    </tr>\n",
       "    <tr>\n",
       "      <th>d</th>\n",
       "      <td>NaN</td>\n",
       "      <td>NaN</td>\n",
       "      <td>NaN</td>\n",
       "    </tr>\n",
       "    <tr>\n",
       "      <th>e</th>\n",
       "      <td>NaN</td>\n",
       "      <td>NaN</td>\n",
       "      <td>NaN</td>\n",
       "    </tr>\n",
       "    <tr>\n",
       "      <th>f</th>\n",
       "      <td>NaN</td>\n",
       "      <td>NaN</td>\n",
       "      <td>NaN</td>\n",
       "    </tr>\n",
       "  </tbody>\n",
       "</table>\n",
       "</div>"
      ],
      "text/plain": [
       "  Name  Age  Marks\n",
       "a  NaN  NaN    NaN\n",
       "b  NaN  NaN    NaN\n",
       "c  NaN  NaN    NaN\n",
       "d  NaN  NaN    NaN\n",
       "e  NaN  NaN    NaN\n",
       "f  NaN  NaN    NaN"
      ]
     },
     "execution_count": 28,
     "metadata": {},
     "output_type": "execute_result"
    }
   ],
   "source": [
    "dic = pd.DataFrame({\"Name\":['Nikhil','Sanket','Ganesh','Ketan','Rahul','JJ'],\n",
    "                   \"Age\":[23,22,21,20,19,23],\n",
    "                   \"Marks\":[80,90,56,64,74,34]})\n",
    "index1=['a','b','c','d','e','f']\n",
    "df = pd.DataFrame(dic, index = index1)\n",
    "\n",
    "df"
   ]
  },
  {
   "cell_type": "code",
   "execution_count": null,
   "id": "a453d8cb",
   "metadata": {},
   "outputs": [],
   "source": []
  },
  {
   "cell_type": "markdown",
   "id": "cd770549",
   "metadata": {},
   "source": [
    "#### 8. Given a dataframe, sort it by age and studentMarks columns"
   ]
  },
  {
   "cell_type": "code",
   "execution_count": 15,
   "id": "2f076b7d",
   "metadata": {},
   "outputs": [
    {
     "data": {
      "text/html": [
       "<div>\n",
       "<style scoped>\n",
       "    .dataframe tbody tr th:only-of-type {\n",
       "        vertical-align: middle;\n",
       "    }\n",
       "\n",
       "    .dataframe tbody tr th {\n",
       "        vertical-align: top;\n",
       "    }\n",
       "\n",
       "    .dataframe thead th {\n",
       "        text-align: right;\n",
       "    }\n",
       "</style>\n",
       "<table border=\"1\" class=\"dataframe\">\n",
       "  <thead>\n",
       "    <tr style=\"text-align: right;\">\n",
       "      <th></th>\n",
       "      <th>Name</th>\n",
       "      <th>Age</th>\n",
       "      <th>Marks</th>\n",
       "    </tr>\n",
       "  </thead>\n",
       "  <tbody>\n",
       "    <tr>\n",
       "      <th>4</th>\n",
       "      <td>Rahul</td>\n",
       "      <td>19</td>\n",
       "      <td>74</td>\n",
       "    </tr>\n",
       "    <tr>\n",
       "      <th>3</th>\n",
       "      <td>Ketan</td>\n",
       "      <td>20</td>\n",
       "      <td>64</td>\n",
       "    </tr>\n",
       "    <tr>\n",
       "      <th>2</th>\n",
       "      <td>Ganesh</td>\n",
       "      <td>21</td>\n",
       "      <td>56</td>\n",
       "    </tr>\n",
       "    <tr>\n",
       "      <th>1</th>\n",
       "      <td>Sanket</td>\n",
       "      <td>22</td>\n",
       "      <td>90</td>\n",
       "    </tr>\n",
       "    <tr>\n",
       "      <th>5</th>\n",
       "      <td>JJ</td>\n",
       "      <td>23</td>\n",
       "      <td>34</td>\n",
       "    </tr>\n",
       "    <tr>\n",
       "      <th>0</th>\n",
       "      <td>Nikhil</td>\n",
       "      <td>23</td>\n",
       "      <td>80</td>\n",
       "    </tr>\n",
       "  </tbody>\n",
       "</table>\n",
       "</div>"
      ],
      "text/plain": [
       "     Name  Age  Marks\n",
       "4   Rahul   19     74\n",
       "3   Ketan   20     64\n",
       "2  Ganesh   21     56\n",
       "1  Sanket   22     90\n",
       "5      JJ   23     34\n",
       "0  Nikhil   23     80"
      ]
     },
     "execution_count": 15,
     "metadata": {},
     "output_type": "execute_result"
    }
   ],
   "source": [
    "dic = pd.DataFrame({\"Name\":['Nikhil','Sanket','Ganesh','Ketan','Rahul','JJ'],\n",
    "                   \"Age\":[23,22,21,20,19,23],\n",
    "                   \"Marks\":[80,90,56,64,74,34]})\n",
    "sv= dic.sort_values(by=['Age','Marks'])\n",
    "sv"
   ]
  },
  {
   "cell_type": "code",
   "execution_count": null,
   "id": "ab5323d4",
   "metadata": {},
   "outputs": [],
   "source": []
  },
  {
   "cell_type": "markdown",
   "id": "5b433e45",
   "metadata": {},
   "source": [
    "#### 9. Given a dataframe with custom indexing, convert it to default indexing and display it\n"
   ]
  },
  {
   "cell_type": "code",
   "execution_count": 16,
   "id": "da9b975f",
   "metadata": {},
   "outputs": [
    {
     "data": {
      "text/html": [
       "<div>\n",
       "<style scoped>\n",
       "    .dataframe tbody tr th:only-of-type {\n",
       "        vertical-align: middle;\n",
       "    }\n",
       "\n",
       "    .dataframe tbody tr th {\n",
       "        vertical-align: top;\n",
       "    }\n",
       "\n",
       "    .dataframe thead th {\n",
       "        text-align: right;\n",
       "    }\n",
       "</style>\n",
       "<table border=\"1\" class=\"dataframe\">\n",
       "  <thead>\n",
       "    <tr style=\"text-align: right;\">\n",
       "      <th></th>\n",
       "      <th>index</th>\n",
       "      <th>Name</th>\n",
       "      <th>Age</th>\n",
       "      <th>Marks</th>\n",
       "    </tr>\n",
       "  </thead>\n",
       "  <tbody>\n",
       "    <tr>\n",
       "      <th>0</th>\n",
       "      <td>a</td>\n",
       "      <td>NaN</td>\n",
       "      <td>NaN</td>\n",
       "      <td>NaN</td>\n",
       "    </tr>\n",
       "    <tr>\n",
       "      <th>1</th>\n",
       "      <td>b</td>\n",
       "      <td>NaN</td>\n",
       "      <td>NaN</td>\n",
       "      <td>NaN</td>\n",
       "    </tr>\n",
       "    <tr>\n",
       "      <th>2</th>\n",
       "      <td>c</td>\n",
       "      <td>NaN</td>\n",
       "      <td>NaN</td>\n",
       "      <td>NaN</td>\n",
       "    </tr>\n",
       "    <tr>\n",
       "      <th>3</th>\n",
       "      <td>d</td>\n",
       "      <td>NaN</td>\n",
       "      <td>NaN</td>\n",
       "      <td>NaN</td>\n",
       "    </tr>\n",
       "    <tr>\n",
       "      <th>4</th>\n",
       "      <td>e</td>\n",
       "      <td>NaN</td>\n",
       "      <td>NaN</td>\n",
       "      <td>NaN</td>\n",
       "    </tr>\n",
       "    <tr>\n",
       "      <th>5</th>\n",
       "      <td>f</td>\n",
       "      <td>NaN</td>\n",
       "      <td>NaN</td>\n",
       "      <td>NaN</td>\n",
       "    </tr>\n",
       "  </tbody>\n",
       "</table>\n",
       "</div>"
      ],
      "text/plain": [
       "  index Name  Age  Marks\n",
       "0     a  NaN  NaN    NaN\n",
       "1     b  NaN  NaN    NaN\n",
       "2     c  NaN  NaN    NaN\n",
       "3     d  NaN  NaN    NaN\n",
       "4     e  NaN  NaN    NaN\n",
       "5     f  NaN  NaN    NaN"
      ]
     },
     "execution_count": 16,
     "metadata": {},
     "output_type": "execute_result"
    }
   ],
   "source": [
    "dic = pd.DataFrame({\"Name\":['Nikhil','Sanket','Ganesh','Ketan','Rahul','JJ'],\n",
    "                   \"Age\":[23,22,21,20,19,23],\n",
    "                   \"Marks\":[80,90,56,64,74,34]})\n",
    "index1=['a','b','c','d','e','f']\n",
    "df = pd.DataFrame(dic, index = index1)\n",
    "\n",
    "df.reset_index()"
   ]
  },
  {
   "cell_type": "code",
   "execution_count": null,
   "id": "c809fd3a",
   "metadata": {},
   "outputs": [],
   "source": []
  },
  {
   "cell_type": "markdown",
   "id": "3650ba74",
   "metadata": {},
   "source": [
    "#### 10.Given a dataframe, select the name column and display it using both loc and iloc method\n"
   ]
  },
  {
   "cell_type": "code",
   "execution_count": 32,
   "id": "a857c5d9",
   "metadata": {},
   "outputs": [
    {
     "name": "stdout",
     "output_type": "stream",
     "text": [
      "     Name  Age  Marks\n",
      "0  Nikhil   23     80\n",
      "1  Sanket   22     90\n",
      "2  Ganesh   21     56\n",
      "3   Ketan   20     64\n",
      "4   Rahul   19     74\n",
      "5      JJ   23     34\n",
      "------------loc-------------\n",
      "     Name  Age  Marks\n",
      "0  Nikhil   23     80\n",
      "------------iloc -------------\n",
      "     Name  Age  Marks\n",
      "0  Nikhil   23     80\n",
      "1  Sanket   22     90\n",
      "2  Ganesh   21     56\n",
      "3   Ketan   20     64\n"
     ]
    }
   ],
   "source": [
    "dic = pd.DataFrame({\"Name\":['Nikhil','Sanket','Ganesh','Ketan','Rahul','JJ'],\n",
    "                   \"Age\":[23,22,21,20,19,23],\n",
    "                   \"Marks\":[80,90,56,64,74,34]})\n",
    "print(dic)\n",
    "print (\"------------loc-------------\")\n",
    "loc = dic.loc[dic[\"Name\"]=='Nikhil']\n",
    "print(loc)\n",
    "print (\"------------iloc -------------\")\n",
    "iloc = dic.iloc[:4]\n",
    "print(iloc)"
   ]
  },
  {
   "cell_type": "code",
   "execution_count": null,
   "id": "f9a4d89a",
   "metadata": {},
   "outputs": [],
   "source": []
  },
  {
   "cell_type": "markdown",
   "id": "d7d52f3a",
   "metadata": {},
   "source": [
    "#### 11. Given a dataframe, select first 2 rows and output them using both loc and iloc method\n"
   ]
  },
  {
   "cell_type": "code",
   "execution_count": 36,
   "id": "4cdd2f00",
   "metadata": {},
   "outputs": [
    {
     "data": {
      "text/html": [
       "<div>\n",
       "<style scoped>\n",
       "    .dataframe tbody tr th:only-of-type {\n",
       "        vertical-align: middle;\n",
       "    }\n",
       "\n",
       "    .dataframe tbody tr th {\n",
       "        vertical-align: top;\n",
       "    }\n",
       "\n",
       "    .dataframe thead th {\n",
       "        text-align: right;\n",
       "    }\n",
       "</style>\n",
       "<table border=\"1\" class=\"dataframe\">\n",
       "  <thead>\n",
       "    <tr style=\"text-align: right;\">\n",
       "      <th></th>\n",
       "      <th>Name</th>\n",
       "      <th>Age</th>\n",
       "      <th>Marks</th>\n",
       "    </tr>\n",
       "  </thead>\n",
       "  <tbody>\n",
       "    <tr>\n",
       "      <th>0</th>\n",
       "      <td>Nikhil</td>\n",
       "      <td>23</td>\n",
       "      <td>80</td>\n",
       "    </tr>\n",
       "    <tr>\n",
       "      <th>1</th>\n",
       "      <td>Sanket</td>\n",
       "      <td>22</td>\n",
       "      <td>90</td>\n",
       "    </tr>\n",
       "  </tbody>\n",
       "</table>\n",
       "</div>"
      ],
      "text/plain": [
       "     Name  Age  Marks\n",
       "0  Nikhil   23     80\n",
       "1  Sanket   22     90"
      ]
     },
     "execution_count": 36,
     "metadata": {},
     "output_type": "execute_result"
    }
   ],
   "source": [
    "dic = pd.DataFrame({\"Name\":['Nikhil','Sanket','Ganesh','Ketan','Rahul','JJ'],\n",
    "                   \"Age\":[23,22,21,20,19,23],\n",
    "                   \"Marks\":[80,90,56,64,74,34]})\n",
    "iloc = dic.iloc[:2]\n",
    "iloc"
   ]
  },
  {
   "cell_type": "code",
   "execution_count": null,
   "id": "b2b445ba",
   "metadata": {},
   "outputs": [],
   "source": []
  },
  {
   "cell_type": "markdown",
   "id": "f9752e08",
   "metadata": {},
   "source": [
    "#### 12.Given a dataframe, select all the rows whose age is greater than 20"
   ]
  },
  {
   "cell_type": "code",
   "execution_count": 52,
   "id": "cfc65f76",
   "metadata": {},
   "outputs": [
    {
     "name": "stdout",
     "output_type": "stream",
     "text": [
      "     Name  Age  Marks\n",
      "0  Nikhil   23     80\n",
      "1  Sanket   22     90\n",
      "2  Ganesh   21     56\n",
      "-------------------------\n",
      "     Name  Age  Marks\n",
      "0  Nikhil   23     80\n",
      "1  Sanket   22     90\n",
      "2  Ganesh   21     56\n"
     ]
    }
   ],
   "source": [
    "dic = pd.DataFrame({\"Name\":['Nikhil','Sanket','Ganesh','Ketan','Rahul','JJ'],\n",
    "                   \"Age\":[23,22,21,20,19,18],\n",
    "                   \"Marks\":[80,90,56,64,74,34]})\n",
    "loc = dic.loc[dic[\"Age\"]>20]\n",
    "print(loc)\n",
    "print (\"-------------------------\")\n",
    "sim = dic[dic[\"Age\"]>20]\n",
    "print(sim)"
   ]
  },
  {
   "cell_type": "code",
   "execution_count": null,
   "id": "a45205c0",
   "metadata": {},
   "outputs": [],
   "source": []
  },
  {
   "cell_type": "markdown",
   "id": "a0f46811",
   "metadata": {},
   "source": [
    "#### 13.Given a dataframe displaying the average marks of students wrt each department\n"
   ]
  },
  {
   "cell_type": "code",
   "execution_count": 55,
   "id": "12f2f742",
   "metadata": {},
   "outputs": [
    {
     "data": {
      "text/plain": [
       "Dept\n",
       "AI           64.0\n",
       "Analytics    80.0\n",
       "DS           90.0\n",
       "Egn          74.0\n",
       "ML           56.0\n",
       "Maths        34.0\n",
       "Name: Marks, dtype: float64"
      ]
     },
     "execution_count": 55,
     "metadata": {},
     "output_type": "execute_result"
    }
   ],
   "source": [
    "# groupby Function\n",
    "\n",
    "dic = pd.DataFrame({\"Name\":['Nikhil','Sanket','Ganesh','Ketan','Rahul','JJ'],\n",
    "                   \"Age\":[23,22,21,20,19,18],\n",
    "                   \"Marks\":[80,90,56,64,74,34],\n",
    "                   \"Dept\":[\"Analytics\",\"DS\",\"ML\",\"AI\",\"Egn\",\"Maths\"]})\n",
    "group = dic.groupby(\"Dept\")[\"Marks\"].mean()\n",
    "group"
   ]
  },
  {
   "cell_type": "code",
   "execution_count": null,
   "id": "8b72f423",
   "metadata": {},
   "outputs": [],
   "source": []
  },
  {
   "cell_type": "markdown",
   "id": "a6d2870b",
   "metadata": {},
   "source": [
    "#### 14.Given a dataframe showing Company Names (cname) and corresponding Profits (profit). Convert the values of Profit column such that values in it greater than 0 are set to True and the rest are set to False. \n",
    "\n",
    "\n"
   ]
  },
  {
   "cell_type": "code",
   "execution_count": 74,
   "id": "b0335a92",
   "metadata": {},
   "outputs": [
    {
     "name": "stdout",
     "output_type": "stream",
     "text": [
      "      cname  profit\n",
      "0      Tata       5\n",
      "1       Jio       3\n",
      "2    Zomato       4\n",
      "3    Swiggy      -1\n",
      "4  Mahindra      -8\n",
      "5   Amazone       6\n",
      "6    Google      -3\n"
     ]
    },
    {
     "data": {
      "text/plain": [
       "0     True\n",
       "1     True\n",
       "2     True\n",
       "3    False\n",
       "4    False\n",
       "5     True\n",
       "6    False\n",
       "Name: map_functions, dtype: bool"
      ]
     },
     "execution_count": 74,
     "metadata": {},
     "output_type": "execute_result"
    }
   ],
   "source": [
    "df = pd.DataFrame({\"cname\":[\"Tata\",\"Jio\",\"Zomato\",\"Swiggy\",\"Mahindra\",\"Amazone\",\"Google\"],\n",
    "                           \"profit\":[5,3,4,-1,-8,6,-3]})\n",
    "print(df)    \n",
    "\n",
    "\n",
    "df['map_functions'] = df[\"profit\"].apply(lambda x:x>0)\n",
    "df['map_functions']"
   ]
  },
  {
   "cell_type": "code",
   "execution_count": null,
   "id": "7e0a0ab5",
   "metadata": {},
   "outputs": [],
   "source": []
  },
  {
   "cell_type": "markdown",
   "id": "6c458e00",
   "metadata": {},
   "source": [
    "#### 15.Write a Pandas program to accept the data in random format. Compute the minimum, 25th percentile, median, 75th, and maximum of a given series.\n",
    "\n"
   ]
  },
  {
   "cell_type": "code",
   "execution_count": 91,
   "id": "5f343aad",
   "metadata": {},
   "outputs": [
    {
     "name": "stdout",
     "output_type": "stream",
     "text": [
      "\n",
      "Minimum, 25th percentile, median, 75th,  maximum \n",
      "[-146.03521087 -138.85233911  -94.27544545  -37.34407188    6.90223965]\n"
     ]
    },
    {
     "data": {
      "text/html": [
       "<div>\n",
       "<style scoped>\n",
       "    .dataframe tbody tr th:only-of-type {\n",
       "        vertical-align: middle;\n",
       "    }\n",
       "\n",
       "    .dataframe tbody tr th {\n",
       "        vertical-align: top;\n",
       "    }\n",
       "\n",
       "    .dataframe thead th {\n",
       "        text-align: right;\n",
       "    }\n",
       "</style>\n",
       "<table border=\"1\" class=\"dataframe\">\n",
       "  <thead>\n",
       "    <tr style=\"text-align: right;\">\n",
       "      <th></th>\n",
       "      <th>0</th>\n",
       "    </tr>\n",
       "  </thead>\n",
       "  <tbody>\n",
       "    <tr>\n",
       "      <th>Minimum</th>\n",
       "      <td>-146.035211</td>\n",
       "    </tr>\n",
       "    <tr>\n",
       "      <th>25th percentile</th>\n",
       "      <td>-138.852339</td>\n",
       "    </tr>\n",
       "    <tr>\n",
       "      <th>median</th>\n",
       "      <td>-94.275445</td>\n",
       "    </tr>\n",
       "    <tr>\n",
       "      <th>75th</th>\n",
       "      <td>-37.344072</td>\n",
       "    </tr>\n",
       "    <tr>\n",
       "      <th>maximum</th>\n",
       "      <td>6.902240</td>\n",
       "    </tr>\n",
       "  </tbody>\n",
       "</table>\n",
       "</div>"
      ],
      "text/plain": [
       "                          0\n",
       "Minimum         -146.035211\n",
       "25th percentile -138.852339\n",
       "median           -94.275445\n",
       "75th             -37.344072\n",
       "maximum            6.902240"
      ]
     },
     "execution_count": 91,
     "metadata": {},
     "output_type": "execute_result"
    }
   ],
   "source": [
    "import numpy as np\n",
    "sate  = np.random.RandomState(50)\n",
    "ran = pd.Series(sate.normal(10,100,4))\n",
    "result = np.percentile(ran, q=[0, 25, 50, 75, 100])\n",
    "print(\"\\nMinimum, 25th percentile, median, 75th,  maximum \")\n",
    "print(result)\n",
    "\n",
    "\n",
    "# Convert into DF\n",
    "index1=['Minimum', '25th percentile', 'median', '75th',  'maximum'] \n",
    "pd.DataFrame(result,index=index1)"
   ]
  },
  {
   "cell_type": "code",
   "execution_count": null,
   "id": "2aa1b96a",
   "metadata": {},
   "outputs": [],
   "source": []
  },
  {
   "cell_type": "markdown",
   "id": "db474bee",
   "metadata": {},
   "source": [
    "#### 16.Write a Pandas program convert the first and last character of each word to upper case in each word of a given series as follows.Series (['php', 'python', 'java', 'c#'])\n",
    "\n"
   ]
  },
  {
   "cell_type": "code",
   "execution_count": 93,
   "id": "75fe0061",
   "metadata": {},
   "outputs": [
    {
     "name": "stdout",
     "output_type": "stream",
     "text": [
      "Original Series:\n",
      "0       php\n",
      "1    python\n",
      "2      java\n",
      "3        c#\n",
      "dtype: object\n",
      "\n",
      "First and last character of each word to upper case:\n",
      "0       PhP\n",
      "1    PythoN\n",
      "2      JavA\n",
      "3        C#\n",
      "dtype: object\n"
     ]
    }
   ],
   "source": [
    "pro = pd.Series(['php', 'python', 'java', 'c#'])\n",
    "print(\"Original Series:\")\n",
    "print(pro)\n",
    "result = pro.map(lambda x: x[0].upper() + x[1:-1] + x[-1].upper())\n",
    "print(\"\\nFirst and last character of each word to upper case:\")\n",
    "print(result)"
   ]
  },
  {
   "cell_type": "code",
   "execution_count": null,
   "id": "ef8a0d31",
   "metadata": {},
   "outputs": [],
   "source": []
  },
  {
   "cell_type": "markdown",
   "id": "10b8752f",
   "metadata": {},
   "source": [
    "#### 17.Write a Pandas program to get the day of month, day of year, week number and day of week from a given series of date strings\n"
   ]
  },
  {
   "cell_type": "code",
   "execution_count": null,
   "id": "f44736f6",
   "metadata": {},
   "outputs": [],
   "source": []
  },
  {
   "cell_type": "code",
   "execution_count": null,
   "id": "ef78f1d4",
   "metadata": {},
   "outputs": [],
   "source": []
  },
  {
   "cell_type": "markdown",
   "id": "d4d7db28",
   "metadata": {},
   "source": [
    "## Part-2 "
   ]
  },
  {
   "cell_type": "markdown",
   "id": "26ab3d70",
   "metadata": {},
   "source": [
    "#### 5. Consider the given below guitar dictionary guitars_dict = { \"Fender Telecaster\": \"Baby Blue\", \"Gibson Les Paul\":\"Sunburst\", \"ESP Eclipse\": \"Dark Green\"}  Assign the resulting Series to a \"guitars\" variable.\n",
    "   \n",
    "   \n",
    "\n",
    "\n"
   ]
  },
  {
   "cell_type": "code",
   "execution_count": 10,
   "id": "48c301cd",
   "metadata": {},
   "outputs": [
    {
     "data": {
      "text/plain": [
       "Fender Telecaster     Baby Blue\n",
       "Gibson Les Paul        Sunburst\n",
       "ESP Eclipse          Dark Green\n",
       "dtype: object"
      ]
     },
     "execution_count": 10,
     "metadata": {},
     "output_type": "execute_result"
    }
   ],
   "source": [
    "guitars_dict =  { \"Fender Telecaster\": \"Baby Blue\",\n",
    "\"Gibson Les Paul\":\"Sunburst\", \"ESP Eclipse\": \"Dark Green\"}\n",
    "aa=pd.Series(guitars_dict)\n",
    "aa"
   ]
  },
  {
   "cell_type": "code",
   "execution_count": null,
   "id": "27d4cadb",
   "metadata": {},
   "outputs": [],
   "source": []
  },
  {
   "cell_type": "markdown",
   "id": "303dcd10",
   "metadata": {},
   "source": [
    "#### 6. Access the value for the index position of 0 within the \"guitars\" Series.Assign the value to a \"fender_color\" variable.\n",
    "                        "
   ]
  },
  {
   "cell_type": "code",
   "execution_count": null,
   "id": "543c0992",
   "metadata": {},
   "outputs": [],
   "source": [
    "\n"
   ]
  },
  {
   "cell_type": "markdown",
   "id": "d89cdb87",
   "metadata": {},
   "source": [
    "#### 7. Access the value for the index label of \"Gibson Les Paul\" in the \"guitars\" Series. Assign the value to a \"gibson_color\" variable.\n",
    "\n"
   ]
  },
  {
   "cell_type": "code",
   "execution_count": null,
   "id": "a9f44ebe",
   "metadata": {},
   "outputs": [],
   "source": []
  },
  {
   "cell_type": "code",
   "execution_count": null,
   "id": "95f2d346",
   "metadata": {},
   "outputs": [],
   "source": []
  }
 ],
 "metadata": {
  "kernelspec": {
   "display_name": "Python 3 (ipykernel)",
   "language": "python",
   "name": "python3"
  },
  "language_info": {
   "codemirror_mode": {
    "name": "ipython",
    "version": 3
   },
   "file_extension": ".py",
   "mimetype": "text/x-python",
   "name": "python",
   "nbconvert_exporter": "python",
   "pygments_lexer": "ipython3",
   "version": "3.10.1"
  }
 },
 "nbformat": 4,
 "nbformat_minor": 5
}
