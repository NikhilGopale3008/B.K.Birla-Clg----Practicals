{
 "cells": [
  {
   "cell_type": "markdown",
   "id": "ef3dfd32",
   "metadata": {},
   "source": [
    "Name :- Nikhil Gopale\n",
    "\n",
    "Student ID :- 44712\n",
    "\n",
    "Roll No :- 30\n",
    "\n",
    "Class :- Msc-Data Science And Big Data Analytics.\n",
    "    \n",
    "Subject   :-  Data Science With Python"
   ]
  },
  {
   "cell_type": "markdown",
   "id": "a23e9a15",
   "metadata": {},
   "source": [
    "## Numpy Exercise "
   ]
  },
  {
   "cell_type": "code",
   "execution_count": null,
   "id": "cfd0b5a9",
   "metadata": {},
   "outputs": [],
   "source": []
  },
  {
   "cell_type": "markdown",
   "id": "922078d5",
   "metadata": {},
   "source": [
    "### Part 1"
   ]
  },
  {
   "cell_type": "markdown",
   "id": "50d7695e",
   "metadata": {},
   "source": [
    "#### 1. Create a 1D array of numbers from 0 to 9"
   ]
  },
  {
   "cell_type": "code",
   "execution_count": 1,
   "id": "af5807bc",
   "metadata": {},
   "outputs": [],
   "source": [
    "import numpy as np"
   ]
  },
  {
   "cell_type": "code",
   "execution_count": 2,
   "id": "70801a99",
   "metadata": {},
   "outputs": [
    {
     "data": {
      "text/plain": [
       "[1, 2, 3, 4, 5, 6, 7, 8, 9, 10]"
      ]
     },
     "execution_count": 2,
     "metadata": {},
     "output_type": "execute_result"
    }
   ],
   "source": [
    "n1 = [1,2,3,4,5,6,7,8,9,10]\n",
    "np.array(n1)\n",
    "n1"
   ]
  },
  {
   "cell_type": "code",
   "execution_count": null,
   "id": "e99e6485",
   "metadata": {},
   "outputs": [],
   "source": []
  },
  {
   "cell_type": "markdown",
   "id": "21debc06",
   "metadata": {},
   "source": [
    "#### 2. Create a 3×3 numpy array of all True’s"
   ]
  },
  {
   "cell_type": "code",
   "execution_count": 3,
   "id": "c6dd4b59",
   "metadata": {},
   "outputs": [
    {
     "data": {
      "text/plain": [
       "array([['True', 'True', 'True'],\n",
       "       ['True', 'True', 'True'],\n",
       "       ['True', 'True', 'True']], dtype='<U4')"
      ]
     },
     "execution_count": 3,
     "metadata": {},
     "output_type": "execute_result"
    }
   ],
   "source": [
    "n2 = np.full((3,3),'True')\n",
    "n2"
   ]
  },
  {
   "cell_type": "code",
   "execution_count": null,
   "id": "721c4b5b",
   "metadata": {},
   "outputs": [],
   "source": []
  },
  {
   "cell_type": "markdown",
   "id": "cb493fe4",
   "metadata": {},
   "source": [
    "#### 3. Extract all odd numbers from 1D array of numbers from 0 to 9"
   ]
  },
  {
   "cell_type": "code",
   "execution_count": 4,
   "id": "81d54400",
   "metadata": {},
   "outputs": [
    {
     "data": {
      "text/plain": [
       "array([1, 3, 5, 7, 9])"
      ]
     },
     "execution_count": 4,
     "metadata": {},
     "output_type": "execute_result"
    }
   ],
   "source": [
    "n1 = np.array([0,1,2,3,4,5,6,7,8,9])\n",
    "n1[n1 % 2 == 1]\n"
   ]
  },
  {
   "cell_type": "code",
   "execution_count": null,
   "id": "59a929da",
   "metadata": {},
   "outputs": [],
   "source": []
  },
  {
   "cell_type": "markdown",
   "id": "88d9fe68",
   "metadata": {},
   "source": [
    "#### 4. Replace all odd numbers from 1D array of numbers from 0 to 9 with -1 Input\n"
   ]
  },
  {
   "cell_type": "code",
   "execution_count": 5,
   "id": "628f96ab",
   "metadata": {},
   "outputs": [
    {
     "name": "stdout",
     "output_type": "stream",
     "text": [
      "enter no: -1\n"
     ]
    },
    {
     "data": {
      "text/plain": [
       "array([ 0, -1,  2, -1,  4, -1,  6, -1,  8, -1])"
      ]
     },
     "execution_count": 5,
     "metadata": {},
     "output_type": "execute_result"
    }
   ],
   "source": [
    "n = int(input(\"enter no: \"))\n",
    "n1 = np.array([0,1,2,3,4,5,6,7,8,9])\n",
    "n1[n1%2 == 1] = n \n",
    "n1\n"
   ]
  },
  {
   "cell_type": "code",
   "execution_count": null,
   "id": "b6fe435b",
   "metadata": {},
   "outputs": [],
   "source": []
  },
  {
   "cell_type": "markdown",
   "id": "6f5b3041",
   "metadata": {},
   "source": [
    "#### 5. Replace all odd numbers in arr with -1 without changing the array elements"
   ]
  },
  {
   "cell_type": "code",
   "execution_count": 6,
   "id": "d7f15cd7",
   "metadata": {},
   "outputs": [
    {
     "data": {
      "text/plain": [
       "array([ 0, -1,  2, -1,  4, -1,  6, -1,  8, -1])"
      ]
     },
     "execution_count": 6,
     "metadata": {},
     "output_type": "execute_result"
    }
   ],
   "source": [
    "n1 = np.array([0,1,2,3,4,5,6,7,8,9])\n",
    "n1[n1%2 == 1] = -1\n",
    "n1"
   ]
  },
  {
   "cell_type": "code",
   "execution_count": null,
   "id": "4e18f82b",
   "metadata": {},
   "outputs": [],
   "source": []
  },
  {
   "cell_type": "markdown",
   "id": "afb1063a",
   "metadata": {},
   "source": [
    "#### 6. Convert a 1D array to a 2D array with 2 rows Input"
   ]
  },
  {
   "cell_type": "code",
   "execution_count": 7,
   "id": "a7eb7164",
   "metadata": {},
   "outputs": [
    {
     "data": {
      "text/plain": [
       "array([[0, 1, 2, 3, 4],\n",
       "       [5, 6, 7, 8, 9]])"
      ]
     },
     "execution_count": 7,
     "metadata": {},
     "output_type": "execute_result"
    }
   ],
   "source": [
    "n1 = np.array([0,1,2,3,4,5,6,7,8,9])\n",
    "np.reshape(n1,(2,5))"
   ]
  },
  {
   "cell_type": "code",
   "execution_count": null,
   "id": "2c4ebb65",
   "metadata": {},
   "outputs": [],
   "source": []
  },
  {
   "cell_type": "markdown",
   "id": "9393264e",
   "metadata": {},
   "source": [
    "#### 7. Stack arrays a and b vertically and then horizontally  a = np.arange(10).reshape(2,-1)  b = np.repeat(1, 10).reshape(2,-1)\n",
    "\n"
   ]
  },
  {
   "cell_type": "code",
   "execution_count": 8,
   "id": "97f94700",
   "metadata": {},
   "outputs": [
    {
     "name": "stdout",
     "output_type": "stream",
     "text": [
      "[[0 1 2 3 4]\n",
      " [5 6 7 8 9]]\n",
      "[[1 1 1 1 1]\n",
      " [1 1 1 1 1]]\n",
      " Vertically array\n",
      "[[0 1 2 3 4]\n",
      " [5 6 7 8 9]\n",
      " [1 1 1 1 1]\n",
      " [1 1 1 1 1]]\n",
      " horizontally array\n",
      "[[0 1 2 3 4 1 1 1 1 1]\n",
      " [5 6 7 8 9 1 1 1 1 1]]\n"
     ]
    }
   ],
   "source": [
    "a = np.arange(10).reshape(2,-1)\n",
    "b = np.repeat(1, 10).reshape(2,-1)\n",
    "print(a)\n",
    "print(b)\n",
    "\n",
    "# Vertically array\n",
    "print(' Vertically array')\n",
    "print( np.vstack((a,b)))\n",
    "\n",
    "\n",
    "# horizontally array\n",
    "print(' horizontally array')\n",
    "print(np.hstack((a,b)))"
   ]
  },
  {
   "cell_type": "code",
   "execution_count": null,
   "id": "ab355739",
   "metadata": {},
   "outputs": [],
   "source": []
  },
  {
   "cell_type": "markdown",
   "id": "6e4217c9",
   "metadata": {},
   "source": [
    "#### 8. Create the following pattern without hardcoding. Use only numpy functions and the below input array a. \n",
    "Input: a = np.array([1,2,3])\n",
    "Desired Output: array([1, 1, 1, 2, 2, 2, 3, 3, 3, 1, 2, 3, 1, 2, 3, 1, 2, 3])"
   ]
  },
  {
   "cell_type": "code",
   "execution_count": 9,
   "id": "0ebf4dae",
   "metadata": {},
   "outputs": [
    {
     "data": {
      "text/plain": [
       "array([1, 1, 1, 2, 2, 2, 3, 3, 3, 1, 2, 3, 1, 2, 3, 1, 2, 3])"
      ]
     },
     "execution_count": 9,
     "metadata": {},
     "output_type": "execute_result"
    }
   ],
   "source": [
    "a = np.array([1,2,3])\n",
    "np.r_[np.repeat(a,3), np.tile(a,3)]\n"
   ]
  },
  {
   "cell_type": "code",
   "execution_count": null,
   "id": "53f5fd4b",
   "metadata": {},
   "outputs": [],
   "source": []
  },
  {
   "cell_type": "markdown",
   "id": "a4e001ad",
   "metadata": {},
   "source": [
    "#### 9. Get the common items between a and b\n",
    "a = np.array([1,2,3,2,3,4,3,4,5,6])\n",
    "b = np.array([7,2,10,2,7,4,9,4,9,8])"
   ]
  },
  {
   "cell_type": "code",
   "execution_count": 10,
   "id": "7b674e4d",
   "metadata": {},
   "outputs": [
    {
     "name": "stdout",
     "output_type": "stream",
     "text": [
      "[1 2 3 2 3 4 3 4 5 6]\n",
      "[ 7  2 10  2  7  4  9  4  9  8]\n",
      " Common items \n"
     ]
    },
    {
     "data": {
      "text/plain": [
       "array([2, 4])"
      ]
     },
     "execution_count": 10,
     "metadata": {},
     "output_type": "execute_result"
    }
   ],
   "source": [
    "a = np.array([1,2,3,2,3,4,3,4,5,6])\n",
    "b = np.array([7,2,10,2,7,4,9,4,9,8])\n",
    "print(a)\n",
    "print(b)\n",
    "\n",
    "# Find Common Value\n",
    "print(\" Common items \")\n",
    "np.intersect1d(a,b)"
   ]
  },
  {
   "cell_type": "code",
   "execution_count": null,
   "id": "f473c471",
   "metadata": {},
   "outputs": [],
   "source": []
  },
  {
   "cell_type": "markdown",
   "id": "6a78d6b9",
   "metadata": {},
   "source": [
    "#### 10. From array a remove all items present in array b (ref array above)"
   ]
  },
  {
   "cell_type": "code",
   "execution_count": 11,
   "id": "a414511f",
   "metadata": {},
   "outputs": [
    {
     "data": {
      "text/plain": [
       "array([1, 3, 5, 6])"
      ]
     },
     "execution_count": 11,
     "metadata": {},
     "output_type": "execute_result"
    }
   ],
   "source": [
    "a = np.array([1,2,3,2,3,4,3,4,5,6])\n",
    "b = np.array([7,2,10,2,7,4,9,4,9,8])\n",
    "np.setdiff1d(a,b)"
   ]
  },
  {
   "cell_type": "code",
   "execution_count": null,
   "id": "4e10e64d",
   "metadata": {},
   "outputs": [],
   "source": []
  },
  {
   "cell_type": "markdown",
   "id": "7665ec57",
   "metadata": {},
   "source": [
    "#### 11. Get the positions where elements of a and b match"
   ]
  },
  {
   "cell_type": "code",
   "execution_count": 12,
   "id": "ef183bfa",
   "metadata": {},
   "outputs": [
    {
     "data": {
      "text/plain": [
       "(array([1, 3, 5, 7], dtype=int64),)"
      ]
     },
     "execution_count": 12,
     "metadata": {},
     "output_type": "execute_result"
    }
   ],
   "source": [
    "a = np.array([1,2,3,2,3,4,3,4,5,6])\n",
    "b = np.array([7,2,10,2,7,4,9,4,9,8])\n",
    "np.where(a==b)"
   ]
  },
  {
   "cell_type": "code",
   "execution_count": null,
   "id": "d76e1358",
   "metadata": {},
   "outputs": [],
   "source": []
  },
  {
   "cell_type": "markdown",
   "id": "c0399a01",
   "metadata": {},
   "source": [
    "#### 12. Get all items between 5 and 10 from a."
   ]
  },
  {
   "cell_type": "code",
   "execution_count": 13,
   "id": "dd467e12",
   "metadata": {},
   "outputs": [
    {
     "data": {
      "text/plain": [
       "array([ 6,  7,  8,  9, 10])"
      ]
     },
     "execution_count": 13,
     "metadata": {},
     "output_type": "execute_result"
    }
   ],
   "source": [
    "a = np.array([1,2,3,4,5,6,7,8,9,10])\n",
    "a[5:10]"
   ]
  },
  {
   "cell_type": "code",
   "execution_count": null,
   "id": "d5a3c19b",
   "metadata": {},
   "outputs": [],
   "source": []
  },
  {
   "cell_type": "markdown",
   "id": "332b178c",
   "metadata": {},
   "source": [
    "#### 13. Swap columns 1 and 2 in the array arr = np.arange(9).reshape(3,3)\n"
   ]
  },
  {
   "cell_type": "code",
   "execution_count": 14,
   "id": "72efa81d",
   "metadata": {},
   "outputs": [
    {
     "name": "stdout",
     "output_type": "stream",
     "text": [
      "[[0 1 2]\n",
      " [3 4 5]\n",
      " [6 7 8]]\n"
     ]
    }
   ],
   "source": [
    "arr = np.arange(9).reshape(3,3)\n",
    "print(arr)\n"
   ]
  },
  {
   "cell_type": "code",
   "execution_count": null,
   "id": "a51f4a03",
   "metadata": {},
   "outputs": [],
   "source": []
  },
  {
   "cell_type": "markdown",
   "id": "1b1c1650",
   "metadata": {},
   "source": [
    "#### 14. Swap rows 1 and 2 in the above given array"
   ]
  },
  {
   "cell_type": "code",
   "execution_count": 15,
   "id": "38b48d71",
   "metadata": {},
   "outputs": [
    {
     "data": {
      "text/plain": [
       "array([[1, 0, 2],\n",
       "       [4, 3, 5],\n",
       "       [7, 6, 8]])"
      ]
     },
     "execution_count": 15,
     "metadata": {},
     "output_type": "execute_result"
    }
   ],
   "source": [
    "arr[:, [1,0,2]]"
   ]
  },
  {
   "cell_type": "code",
   "execution_count": null,
   "id": "9b9f0edd",
   "metadata": {},
   "outputs": [],
   "source": []
  },
  {
   "cell_type": "markdown",
   "id": "4b040402",
   "metadata": {},
   "source": [
    "#### 15. Reverse the rows of above given 2D array"
   ]
  },
  {
   "cell_type": "code",
   "execution_count": 16,
   "id": "93742799",
   "metadata": {},
   "outputs": [
    {
     "data": {
      "text/plain": [
       "array([[6, 7, 8],\n",
       "       [3, 4, 5],\n",
       "       [0, 1, 2]])"
      ]
     },
     "execution_count": 16,
     "metadata": {},
     "output_type": "execute_result"
    }
   ],
   "source": [
    "arr = np.arange(9).reshape(3,3)\n",
    "arr[::-1]"
   ]
  },
  {
   "cell_type": "code",
   "execution_count": null,
   "id": "a09cd68d",
   "metadata": {},
   "outputs": [],
   "source": []
  },
  {
   "cell_type": "markdown",
   "id": "268e92ee",
   "metadata": {},
   "source": [
    "#### 16. Create a 2D array of shape 5×3 to contain random decimal numbers between 5 and 10.\n"
   ]
  },
  {
   "cell_type": "code",
   "execution_count": 17,
   "id": "711800b1",
   "metadata": {},
   "outputs": [
    {
     "data": {
      "text/plain": [
       "array([[7.62523785, 6.0396964 , 9.43597759],\n",
       "       [9.08878308, 5.0453041 , 9.93145244],\n",
       "       [5.61469071, 6.62579493, 8.42159166],\n",
       "       [6.42318442, 9.38313261, 5.42867537],\n",
       "       [6.91338755, 5.84743034, 5.01269859]])"
      ]
     },
     "execution_count": 17,
     "metadata": {},
     "output_type": "execute_result"
    }
   ],
   "source": [
    "dec =np.random.uniform(5,10, size=(5,3))\n",
    "dec"
   ]
  },
  {
   "cell_type": "code",
   "execution_count": null,
   "id": "a1025cdc",
   "metadata": {},
   "outputs": [],
   "source": []
  },
  {
   "cell_type": "markdown",
   "id": "1c838de4",
   "metadata": {},
   "source": [
    "#### 17. Limit the number of items printed in python numpy array ‘a’ to a maximum of 6 elements.\n",
    " \n",
    "a= np.arange(15)\n"
   ]
  },
  {
   "cell_type": "code",
   "execution_count": 18,
   "id": "648f597d",
   "metadata": {},
   "outputs": [
    {
     "data": {
      "text/plain": [
       "array([ 0,  1,  2, ..., 12, 13, 14])"
      ]
     },
     "execution_count": 18,
     "metadata": {},
     "output_type": "execute_result"
    }
   ],
   "source": [
    "\n",
    "np.set_printoptions(threshold=6)\n",
    "a= np.arange(15)\n",
    "a\n"
   ]
  },
  {
   "cell_type": "code",
   "execution_count": null,
   "id": "a3652354",
   "metadata": {},
   "outputs": [],
   "source": []
  },
  {
   "cell_type": "markdown",
   "id": "366ffce5",
   "metadata": {},
   "source": [
    "## Part - 2"
   ]
  },
  {
   "cell_type": "markdown",
   "id": "da807fd4",
   "metadata": {},
   "source": [
    "#### 1. Import the botany dataset and display the values"
   ]
  },
  {
   "cell_type": "code",
   "execution_count": 19,
   "id": "c94dad75",
   "metadata": {},
   "outputs": [
    {
     "name": "stderr",
     "output_type": "stream",
     "text": [
      "C:\\Users\\USER\\AppData\\Local\\Temp\\ipykernel_9536\\2100392100.py:2: VisibleDeprecationWarning: Reading unicode strings without specifying the encoding argument is deprecated. Set the encoding, use None for the system default.\n",
      "  bot = np.genfromtxt('botany.csv', delimiter=',', dtype=None)\n"
     ]
    },
    {
     "data": {
      "text/plain": [
       "array([(5.1, 3.5, 1.4, 0.2, b'Iris-setosa'),\n",
       "       (4.9, 3. , 1.4, 0.2, b'Iris-setosa'),\n",
       "       (4.7, 3.2, 1.3, 0.2, b'Iris-setosa'), ...,\n",
       "       (6.5, 3. , 5.2, 2. , b'Iris-virginica'),\n",
       "       (6.2, 3.4, 5.4, 2.3, b'Iris-virginica'),\n",
       "       (5.9, 3. , 5.1, 1.8, b'Iris-virginica')],\n",
       "      dtype=[('f0', '<f8'), ('f1', '<f8'), ('f2', '<f8'), ('f3', '<f8'), ('f4', 'S15')])"
      ]
     },
     "execution_count": 19,
     "metadata": {},
     "output_type": "execute_result"
    }
   ],
   "source": [
    "# load csv file \n",
    "bot = np.genfromtxt('botany.csv', delimiter=',', dtype=None)\n",
    "bot"
   ]
  },
  {
   "cell_type": "code",
   "execution_count": null,
   "id": "594f684c",
   "metadata": {},
   "outputs": [],
   "source": []
  },
  {
   "cell_type": "markdown",
   "id": "32439c59",
   "metadata": {},
   "source": [
    "#### 2. Extract the text column species from the 1D botany dataset"
   ]
  },
  {
   "cell_type": "code",
   "execution_count": 20,
   "id": "968eeb02",
   "metadata": {},
   "outputs": [
    {
     "data": {
      "text/plain": [
       "array([b'Iris-setosa', b'Iris-setosa', b'Iris-setosa', ...,\n",
       "       b'Iris-virginica', b'Iris-virginica', b'Iris-virginica'],\n",
       "      dtype='|S15')"
      ]
     },
     "execution_count": 20,
     "metadata": {},
     "output_type": "execute_result"
    }
   ],
   "source": [
    "txt = np.array([row[4] for row in bot])\n",
    "txt"
   ]
  },
  {
   "cell_type": "code",
   "execution_count": null,
   "id": "b4f05e47",
   "metadata": {},
   "outputs": [],
   "source": []
  },
  {
   "cell_type": "markdown",
   "id": "77258fb2",
   "metadata": {},
   "source": [
    "#### 3. Convert the 1D botany to 2D array botany_2d by omitting the species text field\n"
   ]
  },
  {
   "cell_type": "code",
   "execution_count": 21,
   "id": "7eb0f335",
   "metadata": {},
   "outputs": [
    {
     "data": {
      "text/plain": [
       "array([[5.1, 3.5, 1.4, 0.2],\n",
       "       [4.9, 3. , 1.4, 0.2],\n",
       "       [4.7, 3.2, 1.3, 0.2],\n",
       "       ...,\n",
       "       [6.5, 3. , 5.2, 2. ],\n",
       "       [6.2, 3.4, 5.4, 2.3],\n",
       "       [5.9, 3. , 5.1, 1.8]])"
      ]
     },
     "execution_count": 21,
     "metadata": {},
     "output_type": "execute_result"
    }
   ],
   "source": [
    "np.array([row.tolist()[:4] for row in bot])"
   ]
  },
  {
   "cell_type": "code",
   "execution_count": null,
   "id": "f0920175",
   "metadata": {},
   "outputs": [],
   "source": []
  },
  {
   "cell_type": "markdown",
   "id": "3ff38bf1",
   "metadata": {},
   "source": [
    "#### 4. Find the mean, median, standard deviation of botany’s sepallength (1st column)\n"
   ]
  },
  {
   "cell_type": "code",
   "execution_count": 22,
   "id": "8ca1f5db",
   "metadata": {},
   "outputs": [
    {
     "name": "stdout",
     "output_type": "stream",
     "text": [
      "Mean : 5.843333333333334\n",
      "Median : 5.8\n",
      "std: 0.8253012917851409\n"
     ]
    }
   ],
   "source": [
    "bot_1 = np.genfromtxt('botany.csv', delimiter=',', dtype=float, usecols=[0])\n",
    "bot_1\n",
    "\n",
    "mean=np.mean(bot_1)\n",
    "print('Mean :',mean)\n",
    "\n",
    "median=np.median(bot_1)\n",
    "print('Median :' ,median)\n",
    "\n",
    "std=np.std(bot_1)\n",
    "print('std:',std)"
   ]
  },
  {
   "cell_type": "code",
   "execution_count": null,
   "id": "96bc1ca9",
   "metadata": {},
   "outputs": [],
   "source": []
  },
  {
   "cell_type": "markdown",
   "id": "011293b1",
   "metadata": {},
   "source": [
    "#### 5. Find the 5th and 95th percentile of botany’s sepallength"
   ]
  },
  {
   "cell_type": "code",
   "execution_count": 23,
   "id": "d69720f6",
   "metadata": {},
   "outputs": [
    {
     "data": {
      "text/plain": [
       "array([4.6  , 7.255])"
      ]
     },
     "execution_count": 23,
     "metadata": {},
     "output_type": "execute_result"
    }
   ],
   "source": [
    "np.percentile(bot_1, q=[5, 95])"
   ]
  },
  {
   "cell_type": "code",
   "execution_count": null,
   "id": "03674712",
   "metadata": {},
   "outputs": [],
   "source": []
  },
  {
   "cell_type": "markdown",
   "id": "793c48a0",
   "metadata": {},
   "source": [
    "#### 6. Find the number and position of missing values"
   ]
  },
  {
   "cell_type": "code",
   "execution_count": 24,
   "id": "7f78b045",
   "metadata": {},
   "outputs": [
    {
     "data": {
      "text/plain": [
       "0"
      ]
     },
     "execution_count": 24,
     "metadata": {},
     "output_type": "execute_result"
    }
   ],
   "source": [
    "bot1 = np.genfromtxt('botany.csv', delimiter=',', dtype=float, usecols=[0,1,2,3])\n",
    "bot1\n",
    "\n",
    "n=np.isnan(bot1[:, 0]).sum()\n",
    "n"
   ]
  },
  {
   "cell_type": "code",
   "execution_count": null,
   "id": "86e99bff",
   "metadata": {},
   "outputs": [],
   "source": []
  },
  {
   "cell_type": "markdown",
   "id": "a68dfe64",
   "metadata": {},
   "source": [
    "#### 7. Filter the rows of botany_2d that has petallength (3rd column) > 1.5 and sepallength (1st column) < 5.0\n"
   ]
  },
  {
   "cell_type": "code",
   "execution_count": 25,
   "id": "96b7ceed",
   "metadata": {},
   "outputs": [
    {
     "name": "stdout",
     "output_type": "stream",
     "text": [
      "[[4.8 3.4 1.6 0.2]\n",
      " [4.8 3.4 1.9 0.2]\n",
      " [4.7 3.2 1.6 0.2]\n",
      " [4.8 3.1 1.6 0.2]\n",
      " [4.9 2.4 3.3 1. ]\n",
      " [4.9 2.5 4.5 1.7]]\n"
     ]
    }
   ],
   "source": [
    "con = (bot1[:, 2]>1.5) & (bot1[:, 0]<5.0)\n",
    "\n",
    "print(bot1[con])"
   ]
  },
  {
   "cell_type": "code",
   "execution_count": null,
   "id": "2a8f624f",
   "metadata": {},
   "outputs": [],
   "source": []
  },
  {
   "cell_type": "markdown",
   "id": "b3d7823f",
   "metadata": {},
   "source": [
    "#### 8. Find out if botany_2d has any missing values."
   ]
  },
  {
   "cell_type": "code",
   "execution_count": 40,
   "id": "e73525b1",
   "metadata": {},
   "outputs": [
    {
     "data": {
      "text/plain": [
       "0"
      ]
     },
     "execution_count": 40,
     "metadata": {},
     "output_type": "execute_result"
    }
   ],
   "source": [
    "botany_2d = np.genfromtxt('botany.csv', delimiter=',', dtype=float, usecols=[0,1,2,3])\n",
    "botany_2d\n",
    "\n",
    "n=np.isnan(bot1[:, 0]).sum()\n",
    "n"
   ]
  },
  {
   "cell_type": "code",
   "execution_count": null,
   "id": "475e236f",
   "metadata": {},
   "outputs": [],
   "source": []
  },
  {
   "cell_type": "markdown",
   "id": "d91b5f7a",
   "metadata": {},
   "source": [
    "#### 9. Replace all occurrences of nan with ‘0’ in numpy array\n"
   ]
  },
  {
   "cell_type": "code",
   "execution_count": 27,
   "id": "f0f7c5b9",
   "metadata": {},
   "outputs": [
    {
     "name": "stdout",
     "output_type": "stream",
     "text": [
      " original array: [[13. nan 16. nan]\n",
      " [17. nan 14. nan]]\n",
      "Replace nan with zero: [[13.  0. 16.  0.]\n",
      " [17.  0. 14.  0.]]\n"
     ]
    }
   ],
   "source": [
    "array = np.array([[13, np.nan, 16,np.nan], [17, np.NaN, 14,np.nan]])\n",
    "print(\" original array:\",array)\n",
    "new_value = np.nan_to_num(array)\n",
    "print(\"Replace nan with zero:\",new_value)"
   ]
  },
  {
   "cell_type": "code",
   "execution_count": null,
   "id": "4325d820",
   "metadata": {},
   "outputs": [],
   "source": []
  },
  {
   "cell_type": "markdown",
   "id": "ce25a51e",
   "metadata": {},
   "source": [
    "#### 10. Bin the petal length (3rd) column of botany_2d to form a text array, \n",
    "such that if petal length is:\n",
    "Less than 3 –> ‘small’\n",
    "3-5 –> ‘medium’\n",
    "‘>=5 –> ‘large’"
   ]
  },
  {
   "cell_type": "code",
   "execution_count": 36,
   "id": "aef49ce1",
   "metadata": {},
   "outputs": [],
   "source": [
    "import numpy as np\n",
    "bin_petal = np.digitize(botany_2d[:, 2].astype('float'), [0, 3, 5, 10])\n",
    "\n",
    "label_map = {1: 'small', 2: 'medium', 3: 'large', 4: np.nan}\n",
    "\n",
    "petal_length = [label_map[x] for x in bin_petal]"
   ]
  },
  {
   "cell_type": "code",
   "execution_count": 37,
   "id": "5d766604",
   "metadata": {},
   "outputs": [
    {
     "name": "stdout",
     "output_type": "stream",
     "text": [
      "['small', 'small', 'small', 'small', 'small', 'small', 'small', 'small', 'small', 'small', 'small', 'small', 'small', 'small', 'small', 'small', 'small', 'small', 'small', 'small', 'small', 'small', 'small', 'small', 'small', 'small', 'small', 'small', 'small', 'small', 'small', 'small', 'small', 'small', 'small', 'small', 'small', 'small', 'small', 'small', 'small', 'small', 'small', 'small', 'small', 'small', 'small', 'small', 'small', 'small', 'medium', 'medium', 'medium', 'medium', 'medium', 'medium', 'medium', 'medium', 'medium', 'medium', 'medium', 'medium', 'medium', 'medium', 'medium', 'medium', 'medium', 'medium', 'medium', 'medium', 'medium', 'medium', 'medium', 'medium', 'medium', 'medium', 'medium', 'large', 'medium', 'medium', 'medium', 'medium', 'medium', 'large', 'medium', 'medium', 'medium', 'medium', 'medium', 'medium', 'medium', 'medium', 'medium', 'medium', 'medium', 'medium', 'medium', 'medium', 'medium', 'medium', 'large', 'large', 'large', 'large', 'large', 'large', 'medium', 'large', 'large', 'large', 'large', 'large', 'large', 'large', 'large', 'large', 'large', 'large', 'large', 'large', 'large', 'medium', 'large', 'medium', 'large', 'large', 'medium', 'medium', 'large', 'large', 'large', 'large', 'large', 'large', 'large', 'large', 'large', 'large', 'medium', 'large', 'large', 'large', 'large', 'large', 'large', 'large', 'large', 'large', 'large', 'large']\n"
     ]
    }
   ],
   "source": [
    "print(petal_length)"
   ]
  },
  {
   "cell_type": "code",
   "execution_count": null,
   "id": "7f50446c",
   "metadata": {},
   "outputs": [],
   "source": []
  },
  {
   "cell_type": "markdown",
   "id": "e62b48d7",
   "metadata": {},
   "source": [
    "#### 11. Sort the botany dataset based on sepallength column"
   ]
  },
  {
   "cell_type": "code",
   "execution_count": 44,
   "id": "4e01f22e",
   "metadata": {},
   "outputs": [
    {
     "data": {
      "text/plain": [
       "array([[4.3, 3. , 1.1, 0.1],\n",
       "       [4.4, 3.2, 1.3, 0.2],\n",
       "       [4.4, 3. , 1.3, 0.2],\n",
       "       ...,\n",
       "       [7.7, 3.8, 6.7, 2.2],\n",
       "       [7.7, 3. , 6.1, 2.3],\n",
       "       [7.9, 3.8, 6.4, 2. ]])"
      ]
     },
     "execution_count": 44,
     "metadata": {},
     "output_type": "execute_result"
    }
   ],
   "source": [
    "a = botany_2d[botany_2d[:,0].argsort()]\n",
    "a"
   ]
  },
  {
   "cell_type": "code",
   "execution_count": null,
   "id": "27d4075d",
   "metadata": {},
   "outputs": [],
   "source": []
  },
  {
   "cell_type": "markdown",
   "id": "4a8f2d11",
   "metadata": {},
   "source": [
    "#### 12. Find the most frequent value of petal length (3rd column) in botany dataset\n"
   ]
  },
  {
   "cell_type": "code",
   "execution_count": 49,
   "id": "883ab9f9",
   "metadata": {},
   "outputs": [
    {
     "data": {
      "text/plain": [
       "5.1"
      ]
     },
     "execution_count": 49,
     "metadata": {},
     "output_type": "execute_result"
    }
   ],
   "source": [
    "value , cunt = np.unique(botany_2d[:,2],return_counts=True)\n",
    "vals[np.argmax(cunt)]"
   ]
  },
  {
   "cell_type": "code",
   "execution_count": null,
   "id": "3d7661c5",
   "metadata": {},
   "outputs": [],
   "source": []
  },
  {
   "cell_type": "markdown",
   "id": "c844b1c5",
   "metadata": {},
   "source": [
    "#### 13. Find the position of the first occurrence of a value greater than 1.0 in petalwidth 4th column of botany dataset\n"
   ]
  },
  {
   "cell_type": "code",
   "execution_count": 53,
   "id": "9943b48d",
   "metadata": {},
   "outputs": [
    {
     "data": {
      "text/plain": [
       "array([50], dtype=int64)"
      ]
     },
     "execution_count": 53,
     "metadata": {},
     "output_type": "execute_result"
    }
   ],
   "source": [
    "po = np.argwhere(botany_2d[:,3].astype(float)>1.0)[0]\n",
    "po"
   ]
  }
 ],
 "metadata": {
  "kernelspec": {
   "display_name": "Python 3 (ipykernel)",
   "language": "python",
   "name": "python3"
  },
  "language_info": {
   "codemirror_mode": {
    "name": "ipython",
    "version": 3
   },
   "file_extension": ".py",
   "mimetype": "text/x-python",
   "name": "python",
   "nbconvert_exporter": "python",
   "pygments_lexer": "ipython3",
   "version": "3.10.2"
  }
 },
 "nbformat": 4,
 "nbformat_minor": 5
}
