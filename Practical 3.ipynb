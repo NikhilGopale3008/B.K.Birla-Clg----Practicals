{
 "cells": [
  {
   "cell_type": "markdown",
   "id": "f0baeea2",
   "metadata": {},
   "source": [
    "# Practical 3 :- RE Module"
   ]
  },
  {
   "cell_type": "markdown",
   "id": "87d07ff2",
   "metadata": {},
   "source": [
    "Name :- Nikhil Gopale\n",
    "\n",
    "Student ID :- 44712\n",
    "\n",
    "Roll No :- 30\n",
    "\n",
    "Class :- Msc-Data Science And Big Data Analytics."
   ]
  },
  {
   "cell_type": "code",
   "execution_count": null,
   "id": "b116789e",
   "metadata": {},
   "outputs": [],
   "source": []
  },
  {
   "cell_type": "markdown",
   "id": "d26f79fa",
   "metadata": {},
   "source": [
    "#### 1) WAPP to check that given string (abcdeABCDE0123) containts only a set of characters (in this case a-e,A-E,0-3).if not display result accordingly."
   ]
  },
  {
   "cell_type": "code",
   "execution_count": 4,
   "id": "f2659693",
   "metadata": {},
   "outputs": [
    {
     "name": "stdout",
     "output_type": "stream",
     "text": [
      "Set present <re.Match object; span=(0, 1), match='a'>\n",
      "Set present <re.Match object; span=(5, 6), match='A'>\n",
      "Set present <re.Match object; span=(10, 11), match='0'>\n"
     ]
    }
   ],
   "source": [
    "import re\n",
    "text='abcdeABCDE0123'\n",
    "a=re.search(\"[a-e]\",text)\n",
    "print(\"Set present\",a)\n",
    "\n",
    "b=re.search(\"[A-E]\",text)\n",
    "print(\"Set present\",b)\n",
    "\n",
    "c=re.search(\"[0-3]\",text)\n",
    "print(\"Set present\",c)"
   ]
  },
  {
   "cell_type": "code",
   "execution_count": null,
   "id": "8c3c686d",
   "metadata": {},
   "outputs": [],
   "source": []
  },
  {
   "cell_type": "markdown",
   "id": "613e3151",
   "metadata": {},
   "source": [
    "#### 2) WAPP that matches a string has an 'a' followed by no 'b' or more 'b' (Eg:- a/ab/abbb/ac)"
   ]
  },
  {
   "cell_type": "code",
   "execution_count": 23,
   "id": "8e4e56b6",
   "metadata": {},
   "outputs": [
    {
     "name": "stdout",
     "output_type": "stream",
     "text": [
      "Found a match! For 'a'\n",
      "Found a match! For 'ab'\n",
      "Found a match! For 'abb'\n",
      "Found a match! For 'ac'\n",
      "Not matched! For 'tt'\n"
     ]
    }
   ],
   "source": [
    "def matches(text):\n",
    "    patterns = 'ab*'\n",
    "    if re.search(patterns,  text):\n",
    "        return 'Found a match!'\n",
    "    else:\n",
    "        return('Not matched!')\n",
    "\n",
    "print(matches(\"ac\"),\"For 'a'\")\n",
    "print(matches(\"ab\"),\"For 'ab'\")\n",
    "print(matches(\"abb\"),\"For 'abb'\")\n",
    "print(matches(\"ac\"),\"For 'ac'\")\n",
    "print(matches(\"tt\"),\"For 'tt'\")\n"
   ]
  },
  {
   "cell_type": "code",
   "execution_count": null,
   "id": "fb99a45b",
   "metadata": {},
   "outputs": [],
   "source": []
  },
  {
   "cell_type": "markdown",
   "id": "dafd2ee9",
   "metadata": {},
   "source": [
    "#### 3) WAPP to find sequence of lowercase letter joined with a underscore (abb_cbbbc/aab_ebbc)"
   ]
  },
  {
   "cell_type": "code",
   "execution_count": 27,
   "id": "ab466e7a",
   "metadata": {},
   "outputs": [
    {
     "name": "stdout",
     "output_type": "stream",
     "text": [
      "Found a match! For 'abc_bcd'\n",
      "Found a match! For 'pqe_abdsfs'\n",
      "Found a match! For 'a_d'\n",
      "Not matched! For '1_3'\n",
      "Not matched! For 'B_3ree3'\n"
     ]
    }
   ],
   "source": [
    "def matches(text):\n",
    "    patterns = '^[a-z]+_[a-z]+$'\n",
    "    if re.search(patterns,  text):\n",
    "        return 'Found a match!'\n",
    "    else:\n",
    "        return('Not matched!')\n",
    "\n",
    "print(matches(\"abc_bcd\"),\"For 'abc_bcd'\")\n",
    "print(matches(\"pqe_abdsfs\"),\"For 'pqe_abdsfs'\")\n",
    "print(matches(\"a_d\"),\"For 'a_d'\")\n",
    "print(matches(\"1_3\"),\"For '1_3'\")\n",
    "print(matches(\"B_3ree3\"),\"For 'B_3ree3'\")"
   ]
  },
  {
   "cell_type": "code",
   "execution_count": null,
   "id": "25217f92",
   "metadata": {},
   "outputs": [],
   "source": []
  },
  {
   "cell_type": "markdown",
   "id": "74678189",
   "metadata": {},
   "source": [
    "#### 4) WApp that matches a word contaning 'z' not at start or end of the word"
   ]
  },
  {
   "cell_type": "code",
   "execution_count": 40,
   "id": "4380a36c",
   "metadata": {},
   "outputs": [
    {
     "name": "stdout",
     "output_type": "stream",
     "text": [
      "Found a match! For 'hello lazy'\n",
      "Not matched! For 'read Zone'\n",
      "Not matched! For 'zone'\n"
     ]
    }
   ],
   "source": [
    "def matches(text):\n",
    "    patterns = '\\Bz\\B'\n",
    "    if re.search(patterns,  text):\n",
    "        return 'Found a match!'\n",
    "    else:\n",
    "        return('Not matched!')\n",
    "\n",
    "print(matches(\"hello lazy \"),\"For 'hello lazy'\")\n",
    "print(matches(\"read Zone\"),\"For 'read Zone'\")\n",
    "print(matches(\"zone\"),\"For 'zone'\")"
   ]
  },
  {
   "cell_type": "code",
   "execution_count": null,
   "id": "699c54fa",
   "metadata": {},
   "outputs": [],
   "source": []
  },
  {
   "cell_type": "markdown",
   "id": "486fe601",
   "metadata": {},
   "source": [
    "#### 5) WAPP to search some literals strings in string\n",
    "text = 'The quick broun fox jumps over the lazy dog'\n",
    "\n",
    "words = 'fox','dog','horse'"
   ]
  },
  {
   "cell_type": "code",
   "execution_count": 45,
   "id": "c132e779",
   "metadata": {},
   "outputs": [
    {
     "name": "stdout",
     "output_type": "stream",
     "text": [
      "fox      = Found \n",
      "dog      = Found \n",
      "horse      = Not Found\n"
     ]
    }
   ],
   "source": [
    "text = 'The quick broun fox jumps over the lazy dog'\n",
    "words = ['fox','dog','horse']\n",
    "\n",
    "for i in words:\n",
    "    a=re.search(i,text)\n",
    "    if a:\n",
    "        print(i,\"     = Found \")\n",
    "    else:\n",
    "        print(i,\"     = Not Found\")\n",
    "    "
   ]
  },
  {
   "cell_type": "code",
   "execution_count": null,
   "id": "00890d3f",
   "metadata": {},
   "outputs": [],
   "source": []
  },
  {
   "cell_type": "code",
   "execution_count": null,
   "id": "49362179",
   "metadata": {},
   "outputs": [],
   "source": [
    "#### 6) WAPP to find the substrings within a string.\n",
    "text = 'Python exercises, PHP exercises, C# exercises' \n",
    "pattern = 'exercises'"
   ]
  },
  {
   "cell_type": "code",
   "execution_count": 50,
   "id": "3c2361fc",
   "metadata": {},
   "outputs": [
    {
     "name": "stdout",
     "output_type": "stream",
     "text": [
      "Found 'exercises'\n",
      "Found 'exercises'\n",
      "Not Found 'exercises'\n"
     ]
    }
   ],
   "source": [
    "text = 'Python exercises, PHP exercises, C# exercise' \n",
    "pattern = 'exercises'\n",
    "for pattern in re.findall(pattern,text):\n",
    "    print(\"Found '%s'\" % pattern)\n",
    "else:\n",
    "    print(\"Not Found '%s'\" % pattern)"
   ]
  },
  {
   "cell_type": "code",
   "execution_count": null,
   "id": "0865c1a5",
   "metadata": {},
   "outputs": [],
   "source": []
  },
  {
   "cell_type": "markdown",
   "id": "c470a414",
   "metadata": {},
   "source": [
    "#### 7) WAPP to replace whitespaces with an underscore and vice versa"
   ]
  },
  {
   "cell_type": "code",
   "execution_count": 53,
   "id": "33706269",
   "metadata": {},
   "outputs": [
    {
     "name": "stdout",
     "output_type": "stream",
     "text": [
      "Python_exercises,_PHP_exercises,_C#_exercise\n",
      "Python exercises, PHP exercises, C# exercise\n"
     ]
    }
   ],
   "source": [
    "text = 'Python exercises, PHP exercises, C# exercise' \n",
    "text = text.replace(\" \",\"_\")\n",
    "print(text)\n",
    "text = text.replace(\"_\",\" \")\n",
    "print(text)"
   ]
  },
  {
   "cell_type": "code",
   "execution_count": null,
   "id": "4294a35d",
   "metadata": {},
   "outputs": [],
   "source": []
  },
  {
   "cell_type": "markdown",
   "id": "bad99fd5",
   "metadata": {},
   "source": [
    "#### 8) WAPP to find all word starting with 'a ' or 'e' in given string"
   ]
  },
  {
   "cell_type": "code",
   "execution_count": 58,
   "id": "27d9bdbe",
   "metadata": {},
   "outputs": [
    {
     "name": "stdout",
     "output_type": "stream",
     "text": [
      "['exercises', 'exercises', 'exercise', 'apple']\n"
     ]
    }
   ],
   "source": [
    "text = 'Python exercises, PHP exercises, C# exercise, apple' \n",
    " \n",
    "list = re.findall(\"[ae]\\w+\", text)\n",
    "\n",
    "print(list)"
   ]
  },
  {
   "cell_type": "code",
   "execution_count": null,
   "id": "aa0c8b3a",
   "metadata": {},
   "outputs": [],
   "source": []
  },
  {
   "cell_type": "markdown",
   "id": "cf50e12b",
   "metadata": {},
   "source": [
    "#### 9) WAPP to repalce all occurrence of space,comma or dot with the colon"
   ]
  },
  {
   "cell_type": "code",
   "execution_count": 63,
   "id": "4dfb9c91",
   "metadata": {},
   "outputs": [
    {
     "name": "stdout",
     "output_type": "stream",
     "text": [
      "Python exercises: PHP exercises: C# exercise: apple\n"
     ]
    }
   ],
   "source": [
    "text = 'Python exercises, PHP exercises, C# exercise, apple' \n",
    "print(re.sub(\"[,.]\",\":\",text))"
   ]
  },
  {
   "cell_type": "code",
   "execution_count": null,
   "id": "72df8e0d",
   "metadata": {},
   "outputs": [],
   "source": []
  },
  {
   "cell_type": "markdown",
   "id": "ebd26bf2",
   "metadata": {},
   "source": [
    "#### 10) WAPP to remove multiple spaces in string"
   ]
  },
  {
   "cell_type": "code",
   "execution_count": 66,
   "id": "d3ed1fef",
   "metadata": {},
   "outputs": [
    {
     "name": "stdout",
     "output_type": "stream",
     "text": [
      "Python exercises, PHP exercises, C# exercise, apple\n"
     ]
    }
   ],
   "source": [
    "text = 'Python      exercises,       PHP    exercises,      C#   exercise,       apple' \n",
    "print(re.sub(\" +\",\" \",text))"
   ]
  },
  {
   "cell_type": "code",
   "execution_count": null,
   "id": "f9f18cce",
   "metadata": {},
   "outputs": [],
   "source": []
  },
  {
   "cell_type": "code",
   "execution_count": null,
   "id": "09146532",
   "metadata": {},
   "outputs": [],
   "source": []
  },
  {
   "cell_type": "code",
   "execution_count": null,
   "id": "d3f2dfe2",
   "metadata": {},
   "outputs": [],
   "source": []
  },
  {
   "cell_type": "code",
   "execution_count": null,
   "id": "26c00984",
   "metadata": {},
   "outputs": [],
   "source": []
  },
  {
   "cell_type": "code",
   "execution_count": null,
   "id": "923a3076",
   "metadata": {},
   "outputs": [],
   "source": []
  },
  {
   "cell_type": "code",
   "execution_count": null,
   "id": "90e265f7",
   "metadata": {},
   "outputs": [],
   "source": []
  },
  {
   "cell_type": "code",
   "execution_count": null,
   "id": "6084a7ef",
   "metadata": {},
   "outputs": [],
   "source": []
  }
 ],
 "metadata": {
  "kernelspec": {
   "display_name": "Python 3 (ipykernel)",
   "language": "python",
   "name": "python3"
  },
  "language_info": {
   "codemirror_mode": {
    "name": "ipython",
    "version": 3
   },
   "file_extension": ".py",
   "mimetype": "text/x-python",
   "name": "python",
   "nbconvert_exporter": "python",
   "pygments_lexer": "ipython3",
   "version": "3.9.7"
  }
 },
 "nbformat": 4,
 "nbformat_minor": 5
}
