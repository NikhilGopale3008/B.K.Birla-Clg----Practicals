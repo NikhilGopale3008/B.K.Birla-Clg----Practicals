{
 "cells": [
  {
   "cell_type": "markdown",
   "id": "9d04b6f7",
   "metadata": {},
   "source": [
    "# Practical 4  - Exception Handling"
   ]
  },
  {
   "cell_type": "code",
   "execution_count": null,
   "id": "c7664c51",
   "metadata": {},
   "outputs": [],
   "source": [
    "Name :- Nikhil Gopale\n",
    "\n",
    "Student ID :- 44712\n",
    "\n",
    "Roll No :- 30\n",
    "\n",
    "Class :- Msc-Data Science And Big Data Analytics."
   ]
  },
  {
   "cell_type": "code",
   "execution_count": null,
   "id": "75512117",
   "metadata": {},
   "outputs": [],
   "source": []
  },
  {
   "cell_type": "markdown",
   "id": "1b25cb03",
   "metadata": {},
   "source": [
    "#### 1)WAPP to Accept a number from the user and print the reciprocal of the number if the number is even or else display number is not even"
   ]
  },
  {
   "cell_type": "code",
   "execution_count": 11,
   "id": "f6c5451c",
   "metadata": {},
   "outputs": [
    {
     "name": "stdout",
     "output_type": "stream",
     "text": [
      "Enter a number: 2\n",
      "0.5\n"
     ]
    }
   ],
   "source": [
    "num = int(input(\"Enter a number: \"))\n",
    "if num % 2 == 0:\n",
    "    try:\n",
    "        reciprocal = 1/num\n",
    "        print(reciprocal)\n",
    "    except ZeroDivisionError as err:\n",
    "        print(err)\n",
    "else:\n",
    "    print(\"Not an even number!\")\n"
   ]
  },
  {
   "cell_type": "code",
   "execution_count": null,
   "id": "c1f21105",
   "metadata": {},
   "outputs": [],
   "source": []
  },
  {
   "cell_type": "markdown",
   "id": "fbcf2248",
   "metadata": {},
   "source": [
    "#### 2) WAPP to accept a number from the user and check whether the number is positive and if negative raise an exeption\n"
   ]
  },
  {
   "cell_type": "code",
   "execution_count": 17,
   "id": "451c9fbb",
   "metadata": {},
   "outputs": [
    {
     "name": "stdout",
     "output_type": "stream",
     "text": [
      "-2\n",
      "Way to Negative\n"
     ]
    }
   ],
   "source": [
    "try:\n",
    "    num = int(input())\n",
    "    if num > 0:\n",
    "        print(\"Way to Positive\")\n",
    "    else:\n",
    "        raise ValueError\n",
    "except ValueError:\n",
    "    print(\"Way to Negative\")"
   ]
  },
  {
   "cell_type": "code",
   "execution_count": null,
   "id": "b0b8ae64",
   "metadata": {},
   "outputs": [],
   "source": []
  },
  {
   "cell_type": "markdown",
   "id": "b03511e5",
   "metadata": {},
   "source": [
    "#### 3) WAPP to assign a number between 1-10 and ask the user to guess the  number untile they guess a stored correctely, to help them figure it out a hint is provided whether their guess is greater than or less than a stored number."
   ]
  },
  {
   "cell_type": "code",
   "execution_count": 24,
   "id": "588a540d",
   "metadata": {},
   "outputs": [
    {
     "name": "stdout",
     "output_type": "stream",
     "text": [
      "Enter Number :-2\n",
      "Number iS Small \n",
      "\n",
      "Enter Number :-9\n",
      "Number is greater !!!!\n",
      "\n",
      "Enter Number :-4\n",
      "Ohh!!!! Number MATCH \n"
     ]
    }
   ],
   "source": [
    "guess = 4\n",
    "while True:\n",
    "    try:\n",
    "        num = int(input(\"Enter Number :-\"))\n",
    "        if num>guess:\n",
    "            print(\"Number is greater !!!!\\n\")\n",
    "        elif num<guess:\n",
    "            print(\"Number iS Small \\n\")\n",
    "        else:\n",
    "            print(\"Ohh!!!! Number MATCH \")\n",
    "            break\n",
    "    except ValueError:\n",
    "        break\n",
    "        "
   ]
  },
  {
   "cell_type": "code",
   "execution_count": null,
   "id": "44d731ca",
   "metadata": {},
   "outputs": [],
   "source": []
  },
  {
   "cell_type": "markdown",
   "id": "c6fe7eaa",
   "metadata": {},
   "source": [
    "#### 4) WAPP check if the python TExt file is exist or not by using (Try and Except statement)"
   ]
  },
  {
   "cell_type": "code",
   "execution_count": 33,
   "id": "5ea57379",
   "metadata": {},
   "outputs": [
    {
     "name": "stdout",
     "output_type": "stream",
     "text": [
      "File Found Ssuccessfully \n"
     ]
    }
   ],
   "source": [
    "try:\n",
    "    file = open(\"myfile.txt\")\n",
    "    \n",
    "except IOError:\n",
    "    print(\"Unfortunately file Not Found\")\n",
    "else:\n",
    "    print(\"File Found Successfully \")\n",
    "finally:\n",
    "    file.close()"
   ]
  },
  {
   "cell_type": "code",
   "execution_count": 34,
   "id": "10e0d216",
   "metadata": {},
   "outputs": [
    {
     "name": "stdout",
     "output_type": "stream",
     "text": [
      "Unfortunately file Not Found\n"
     ]
    }
   ],
   "source": [
    "try:\n",
    "    file = open(\"myfille.txt\")\n",
    "    \n",
    "except IOError:\n",
    "    print(\"Unfortunately file Not Found\")\n",
    "else:\n",
    "    print(\"File Found Successfully \")\n",
    "finally:\n",
    "    file.close()"
   ]
  }
 ],
 "metadata": {
  "kernelspec": {
   "display_name": "Python 3 (ipykernel)",
   "language": "python",
   "name": "python3"
  },
  "language_info": {
   "codemirror_mode": {
    "name": "ipython",
    "version": 3
   },
   "file_extension": ".py",
   "mimetype": "text/x-python",
   "name": "python",
   "nbconvert_exporter": "python",
   "pygments_lexer": "ipython3",
   "version": "3.9.7"
  }
 },
 "nbformat": 4,
 "nbformat_minor": 5
}
